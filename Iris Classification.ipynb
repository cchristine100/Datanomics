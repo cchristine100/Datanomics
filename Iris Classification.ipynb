{
 "cells": [
  {
   "cell_type": "markdown",
   "metadata": {},
   "source": [
    "# K-Nearest Neighbors Algorithm (K-NN)\n",
    "\n",
    "This algorithm seeks to classify an item based on its euclidean distance using inputs variables to the nearest classified items. We will use the iris dataset found in R to demonstrate how this algorithm works. We will attempt to predict the type of iris based on its sepal length, sepal width, petal length, and petal width."
   ]
  },
  {
   "cell_type": "code",
   "execution_count": 33,
   "metadata": {},
   "outputs": [],
   "source": [
    "library(ggplot2)"
   ]
  },
  {
   "cell_type": "code",
   "execution_count": 1,
   "metadata": {},
   "outputs": [
    {
     "data": {
      "text/html": [
       "<table>\n",
       "<thead><tr><th scope=col>Sepal.Length</th><th scope=col>Sepal.Width</th><th scope=col>Petal.Length</th><th scope=col>Petal.Width</th><th scope=col>Species</th></tr></thead>\n",
       "<tbody>\n",
       "\t<tr><td>5.1   </td><td>3.5   </td><td>1.4   </td><td>0.2   </td><td>setosa</td></tr>\n",
       "\t<tr><td>4.9   </td><td>3.0   </td><td>1.4   </td><td>0.2   </td><td>setosa</td></tr>\n",
       "\t<tr><td>4.7   </td><td>3.2   </td><td>1.3   </td><td>0.2   </td><td>setosa</td></tr>\n",
       "\t<tr><td>4.6   </td><td>3.1   </td><td>1.5   </td><td>0.2   </td><td>setosa</td></tr>\n",
       "\t<tr><td>5.0   </td><td>3.6   </td><td>1.4   </td><td>0.2   </td><td>setosa</td></tr>\n",
       "\t<tr><td>5.4   </td><td>3.9   </td><td>1.7   </td><td>0.4   </td><td>setosa</td></tr>\n",
       "</tbody>\n",
       "</table>\n"
      ],
      "text/latex": [
       "\\begin{tabular}{r|lllll}\n",
       " Sepal.Length & Sepal.Width & Petal.Length & Petal.Width & Species\\\\\n",
       "\\hline\n",
       "\t 5.1    & 3.5    & 1.4    & 0.2    & setosa\\\\\n",
       "\t 4.9    & 3.0    & 1.4    & 0.2    & setosa\\\\\n",
       "\t 4.7    & 3.2    & 1.3    & 0.2    & setosa\\\\\n",
       "\t 4.6    & 3.1    & 1.5    & 0.2    & setosa\\\\\n",
       "\t 5.0    & 3.6    & 1.4    & 0.2    & setosa\\\\\n",
       "\t 5.4    & 3.9    & 1.7    & 0.4    & setosa\\\\\n",
       "\\end{tabular}\n"
      ],
      "text/markdown": [
       "\n",
       "| Sepal.Length | Sepal.Width | Petal.Length | Petal.Width | Species |\n",
       "|---|---|---|---|---|\n",
       "| 5.1    | 3.5    | 1.4    | 0.2    | setosa |\n",
       "| 4.9    | 3.0    | 1.4    | 0.2    | setosa |\n",
       "| 4.7    | 3.2    | 1.3    | 0.2    | setosa |\n",
       "| 4.6    | 3.1    | 1.5    | 0.2    | setosa |\n",
       "| 5.0    | 3.6    | 1.4    | 0.2    | setosa |\n",
       "| 5.4    | 3.9    | 1.7    | 0.4    | setosa |\n",
       "\n"
      ],
      "text/plain": [
       "  Sepal.Length Sepal.Width Petal.Length Petal.Width Species\n",
       "1 5.1          3.5         1.4          0.2         setosa \n",
       "2 4.9          3.0         1.4          0.2         setosa \n",
       "3 4.7          3.2         1.3          0.2         setosa \n",
       "4 4.6          3.1         1.5          0.2         setosa \n",
       "5 5.0          3.6         1.4          0.2         setosa \n",
       "6 5.4          3.9         1.7          0.4         setosa "
      ]
     },
     "metadata": {},
     "output_type": "display_data"
    }
   ],
   "source": [
    "head(iris)"
   ]
  },
  {
   "cell_type": "code",
   "execution_count": 2,
   "metadata": {},
   "outputs": [
    {
     "data": {
      "text/html": [
       "<ol class=list-inline>\n",
       "\t<li>'setosa'</li>\n",
       "\t<li>'versicolor'</li>\n",
       "\t<li>'virginica'</li>\n",
       "</ol>\n"
      ],
      "text/latex": [
       "\\begin{enumerate*}\n",
       "\\item 'setosa'\n",
       "\\item 'versicolor'\n",
       "\\item 'virginica'\n",
       "\\end{enumerate*}\n"
      ],
      "text/markdown": [
       "1. 'setosa'\n",
       "2. 'versicolor'\n",
       "3. 'virginica'\n",
       "\n",
       "\n"
      ],
      "text/plain": [
       "[1] \"setosa\"     \"versicolor\" \"virginica\" "
      ]
     },
     "metadata": {},
     "output_type": "display_data"
    }
   ],
   "source": [
    "levels(iris$Species)"
   ]
  },
  {
   "cell_type": "code",
   "execution_count": 3,
   "metadata": {},
   "outputs": [
    {
     "name": "stdout",
     "output_type": "stream",
     "text": [
      "'data.frame':\t150 obs. of  5 variables:\n",
      " $ Sepal.Length: num  5.1 4.9 4.7 4.6 5 5.4 4.6 5 4.4 4.9 ...\n",
      " $ Sepal.Width : num  3.5 3 3.2 3.1 3.6 3.9 3.4 3.4 2.9 3.1 ...\n",
      " $ Petal.Length: num  1.4 1.4 1.3 1.5 1.4 1.7 1.4 1.5 1.4 1.5 ...\n",
      " $ Petal.Width : num  0.2 0.2 0.2 0.2 0.2 0.4 0.3 0.2 0.2 0.1 ...\n",
      " $ Species     : Factor w/ 3 levels \"setosa\",\"versicolor\",..: 1 1 1 1 1 1 1 1 1 1 ...\n"
     ]
    }
   ],
   "source": [
    "str(iris)"
   ]
  },
  {
   "cell_type": "code",
   "execution_count": 4,
   "metadata": {},
   "outputs": [
    {
     "data": {
      "image/png": "[encoded data removed]",
      "text/plain": [
       "plot without title"
      ]
     },
     "metadata": {},
     "output_type": "display_data"
    }
   ],
   "source": [
    "options(repr.plot.width = 10, repr.plot.height = 7)\n",
    "par(mfrow = c(2,2))\n",
    "\n",
    "plot(Sepal.Length ~ Species, col=c(grey(.2),2:6), data = iris)\n",
    "plot(Sepal.Width ~ Species, col=c(grey(.2),2:6), data = iris)\n",
    "plot(Petal.Length ~ Species, col=c(grey(.2),2:6), data = iris)\n",
    "plot(Petal.Width ~ Species, col=c(grey(.2),2:6), data = iris)"
   ]
  },
  {
   "cell_type": "markdown",
   "metadata": {},
   "source": [
    "Scale data so that distances are in standard deviations\n",
    "- make numerica and scale\n",
    "- convert columns to mean-zero sd-one (assumption of normality)\n",
    "- column 5 is the species label so want to scale the first 4 columns"
   ]
  },
  {
   "cell_type": "code",
   "execution_count": 5,
   "metadata": {},
   "outputs": [
    {
     "data": {
      "text/html": [
       "<dl class=dl-horizontal>\n",
       "\t<dt>Sepal.Length</dt>\n",
       "\t\t<dd>1</dd>\n",
       "\t<dt>Sepal.Width</dt>\n",
       "\t\t<dd>1</dd>\n",
       "\t<dt>Petal.Length</dt>\n",
       "\t\t<dd>1</dd>\n",
       "\t<dt>Petal.Width</dt>\n",
       "\t\t<dd>1</dd>\n",
       "</dl>\n"
      ],
      "text/latex": [
       "\\begin{description*}\n",
       "\\item[Sepal.Length] 1\n",
       "\\item[Sepal.Width] 1\n",
       "\\item[Petal.Length] 1\n",
       "\\item[Petal.Width] 1\n",
       "\\end{description*}\n"
      ],
      "text/markdown": [
       "Sepal.Length\n",
       ":   1Sepal.Width\n",
       ":   1Petal.Length\n",
       ":   1Petal.Width\n",
       ":   1\n",
       "\n"
      ],
      "text/plain": [
       "Sepal.Length  Sepal.Width Petal.Length  Petal.Width \n",
       "           1            1            1            1 "
      ]
     },
     "metadata": {},
     "output_type": "display_data"
    }
   ],
   "source": [
    "x <- scale(iris[,1:4]) \n",
    "apply(x,2, sd)"
   ]
  },
  {
   "cell_type": "code",
   "execution_count": 6,
   "metadata": {},
   "outputs": [
    {
     "data": {
      "text/plain": [
       "  Sepal.Length       Sepal.Width       Petal.Length      Petal.Width     \n",
       " Min.   :-1.86378   Min.   :-2.4258   Min.   :-1.5623   Min.   :-1.4422  \n",
       " 1st Qu.:-0.89767   1st Qu.:-0.5904   1st Qu.:-1.2225   1st Qu.:-1.1799  \n",
       " Median :-0.05233   Median :-0.1315   Median : 0.3354   Median : 0.1321  \n",
       " Mean   : 0.00000   Mean   : 0.0000   Mean   : 0.0000   Mean   : 0.0000  \n",
       " 3rd Qu.: 0.67225   3rd Qu.: 0.5567   3rd Qu.: 0.7602   3rd Qu.: 0.7880  \n",
       " Max.   : 2.48370   Max.   : 3.0805   Max.   : 1.7799   Max.   : 1.7064  "
      ]
     },
     "metadata": {},
     "output_type": "display_data"
    }
   ],
   "source": [
    "summary(x)"
   ]
  },
  {
   "cell_type": "code",
   "execution_count": 21,
   "metadata": {},
   "outputs": [
    {
     "data": {
      "text/html": [
       "<ol class=list-inline>\n",
       "\t<li>69</li>\n",
       "\t<li>102</li>\n",
       "\t<li>25</li>\n",
       "\t<li>79</li>\n",
       "\t<li>127</li>\n",
       "\t<li>55</li>\n",
       "\t<li>22</li>\n",
       "\t<li>75</li>\n",
       "\t<li>121</li>\n",
       "\t<li>115</li>\n",
       "\t<li>93</li>\n",
       "\t<li>20</li>\n",
       "\t<li>89</li>\n",
       "\t<li>81</li>\n",
       "\t<li>134</li>\n",
       "\t<li>23</li>\n",
       "\t<li>24</li>\n",
       "\t<li>57</li>\n",
       "\t<li>50</li>\n",
       "\t<li>99</li>\n",
       "</ol>\n"
      ],
      "text/latex": [
       "\\begin{enumerate*}\n",
       "\\item 69\n",
       "\\item 102\n",
       "\\item 25\n",
       "\\item 79\n",
       "\\item 127\n",
       "\\item 55\n",
       "\\item 22\n",
       "\\item 75\n",
       "\\item 121\n",
       "\\item 115\n",
       "\\item 93\n",
       "\\item 20\n",
       "\\item 89\n",
       "\\item 81\n",
       "\\item 134\n",
       "\\item 23\n",
       "\\item 24\n",
       "\\item 57\n",
       "\\item 50\n",
       "\\item 99\n",
       "\\end{enumerate*}\n"
      ],
      "text/markdown": [
       "1. 69\n",
       "2. 102\n",
       "3. 25\n",
       "4. 79\n",
       "5. 127\n",
       "6. 55\n",
       "7. 22\n",
       "8. 75\n",
       "9. 121\n",
       "10. 115\n",
       "11. 93\n",
       "12. 20\n",
       "13. 89\n",
       "14. 81\n",
       "15. 134\n",
       "16. 23\n",
       "17. 24\n",
       "18. 57\n",
       "19. 50\n",
       "20. 99\n",
       "\n",
       "\n"
      ],
      "text/plain": [
       " [1]  69 102  25  79 127  55  22  75 121 115  93  20  89  81 134  23  24  57  50\n",
       "[20]  99"
      ]
     },
     "metadata": {},
     "output_type": "display_data"
    }
   ],
   "source": [
    "test <- sample(1:150,20) #take a random test sample of 10 rows\n",
    "test"
   ]
  },
  {
   "cell_type": "code",
   "execution_count": 22,
   "metadata": {},
   "outputs": [
    {
     "data": {
      "text/html": [
       "<table>\n",
       "<thead><tr><th scope=col>Sepal.Length</th><th scope=col>Sepal.Width</th><th scope=col>Petal.Length</th><th scope=col>Petal.Width</th></tr></thead>\n",
       "<tbody>\n",
       "\t<tr><td>-0.8976739 </td><td> 1.01560199</td><td>-1.335752  </td><td>-1.311052  </td></tr>\n",
       "\t<tr><td>-1.1392005 </td><td>-0.13153881</td><td>-1.335752  </td><td>-1.311052  </td></tr>\n",
       "\t<tr><td>-1.3807271 </td><td> 0.32731751</td><td>-1.392399  </td><td>-1.311052  </td></tr>\n",
       "\t<tr><td>-1.5014904 </td><td> 0.09788935</td><td>-1.279104  </td><td>-1.311052  </td></tr>\n",
       "\t<tr><td>-1.0184372 </td><td> 1.24503015</td><td>-1.335752  </td><td>-1.311052  </td></tr>\n",
       "\t<tr><td>-0.5353840 </td><td> 1.93331463</td><td>-1.165809  </td><td>-1.048667  </td></tr>\n",
       "</tbody>\n",
       "</table>\n"
      ],
      "text/latex": [
       "\\begin{tabular}{llll}\n",
       " Sepal.Length & Sepal.Width & Petal.Length & Petal.Width\\\\\n",
       "\\hline\n",
       "\t -0.8976739  &  1.01560199 & -1.335752   & -1.311052  \\\\\n",
       "\t -1.1392005  & -0.13153881 & -1.335752   & -1.311052  \\\\\n",
       "\t -1.3807271  &  0.32731751 & -1.392399   & -1.311052  \\\\\n",
       "\t -1.5014904  &  0.09788935 & -1.279104   & -1.311052  \\\\\n",
       "\t -1.0184372  &  1.24503015 & -1.335752   & -1.311052  \\\\\n",
       "\t -0.5353840  &  1.93331463 & -1.165809   & -1.048667  \\\\\n",
       "\\end{tabular}\n"
      ],
      "text/markdown": [
       "\n",
       "| Sepal.Length | Sepal.Width | Petal.Length | Petal.Width |\n",
       "|---|---|---|---|\n",
       "| -0.8976739  |  1.01560199 | -1.335752   | -1.311052   |\n",
       "| -1.1392005  | -0.13153881 | -1.335752   | -1.311052   |\n",
       "| -1.3807271  |  0.32731751 | -1.392399   | -1.311052   |\n",
       "| -1.5014904  |  0.09788935 | -1.279104   | -1.311052   |\n",
       "| -1.0184372  |  1.24503015 | -1.335752   | -1.311052   |\n",
       "| -0.5353840  |  1.93331463 | -1.165809   | -1.048667   |\n",
       "\n"
      ],
      "text/plain": [
       "     Sepal.Length Sepal.Width Petal.Length Petal.Width\n",
       "[1,] -0.8976739    1.01560199 -1.335752    -1.311052  \n",
       "[2,] -1.1392005   -0.13153881 -1.335752    -1.311052  \n",
       "[3,] -1.3807271    0.32731751 -1.392399    -1.311052  \n",
       "[4,] -1.5014904    0.09788935 -1.279104    -1.311052  \n",
       "[5,] -1.0184372    1.24503015 -1.335752    -1.311052  \n",
       "[6,] -0.5353840    1.93331463 -1.165809    -1.048667  "
      ]
     },
     "metadata": {},
     "output_type": "display_data"
    }
   ],
   "source": [
    "head(x[-test,]) #remove the test sample from the data set x. this is the training set"
   ]
  },
  {
   "cell_type": "code",
   "execution_count": 23,
   "metadata": {},
   "outputs": [],
   "source": [
    "#Load class library to get K-NN classifier\n",
    "library(class)\n",
    "\n",
    "#Run a K-NN using 1 nearest neighbor to classify item\n",
    "nearest1 <- knn(train=x[-test,], test=x[test,], cl=iris$Species[-test], k=1)\n",
    "#Run a K-NN using 5 nearest neighbors to classify item\n",
    "nearest5 <- knn(train=x[-test,], test=x[test,], cl=iris$Species[-test], k=5)\n",
    "#Run a K-NN using 10 nearest neighbors to classify item\n",
    "nearest10 <- knn(train=x[-test,], test=x[test,], cl=iris$Species[-test], k=10)\n",
    "#Run a K-NN using 50 nearest neighbors to classify item\n",
    "nearest50 <- knn(train=x[-test,], test=x[test,], cl=iris$Species[-test], k=50)\n"
   ]
  },
  {
   "cell_type": "code",
   "execution_count": 24,
   "metadata": {},
   "outputs": [
    {
     "data": {
      "text/html": [
       "<table>\n",
       "<thead><tr><th scope=col>iris.Species.test.</th><th scope=col>nearest1</th><th scope=col>nearest5</th><th scope=col>nearest10</th><th scope=col>nearest50</th></tr></thead>\n",
       "<tbody>\n",
       "\t<tr><td>versicolor</td><td>virginica </td><td>versicolor</td><td>versicolor</td><td>versicolor</td></tr>\n",
       "\t<tr><td>virginica </td><td>virginica </td><td>virginica </td><td>virginica </td><td>versicolor</td></tr>\n",
       "\t<tr><td>setosa    </td><td>setosa    </td><td>setosa    </td><td>setosa    </td><td>setosa    </td></tr>\n",
       "\t<tr><td>versicolor</td><td>versicolor</td><td>versicolor</td><td>versicolor</td><td>versicolor</td></tr>\n",
       "\t<tr><td>virginica </td><td>virginica </td><td>virginica </td><td>virginica </td><td>versicolor</td></tr>\n",
       "\t<tr><td>versicolor</td><td>versicolor</td><td>versicolor</td><td>versicolor</td><td>versicolor</td></tr>\n",
       "\t<tr><td>setosa    </td><td>setosa    </td><td>setosa    </td><td>setosa    </td><td>setosa    </td></tr>\n",
       "\t<tr><td>versicolor</td><td>versicolor</td><td>versicolor</td><td>versicolor</td><td>versicolor</td></tr>\n",
       "\t<tr><td>virginica </td><td>virginica </td><td>virginica </td><td>virginica </td><td>virginica </td></tr>\n",
       "\t<tr><td>virginica </td><td>virginica </td><td>virginica </td><td>virginica </td><td>virginica </td></tr>\n",
       "\t<tr><td>versicolor</td><td>versicolor</td><td>versicolor</td><td>versicolor</td><td>versicolor</td></tr>\n",
       "\t<tr><td>setosa    </td><td>setosa    </td><td>setosa    </td><td>setosa    </td><td>setosa    </td></tr>\n",
       "\t<tr><td>versicolor</td><td>versicolor</td><td>versicolor</td><td>versicolor</td><td>versicolor</td></tr>\n",
       "\t<tr><td>versicolor</td><td>versicolor</td><td>versicolor</td><td>versicolor</td><td>versicolor</td></tr>\n",
       "\t<tr><td>virginica </td><td>versicolor</td><td>versicolor</td><td>versicolor</td><td>versicolor</td></tr>\n",
       "\t<tr><td>setosa    </td><td>setosa    </td><td>setosa    </td><td>setosa    </td><td>setosa    </td></tr>\n",
       "\t<tr><td>setosa    </td><td>setosa    </td><td>setosa    </td><td>setosa    </td><td>setosa    </td></tr>\n",
       "\t<tr><td>versicolor</td><td>versicolor</td><td>versicolor</td><td>versicolor</td><td>virginica </td></tr>\n",
       "\t<tr><td>setosa    </td><td>setosa    </td><td>setosa    </td><td>setosa    </td><td>setosa    </td></tr>\n",
       "\t<tr><td>versicolor</td><td>versicolor</td><td>versicolor</td><td>versicolor</td><td>versicolor</td></tr>\n",
       "</tbody>\n",
       "</table>\n"
      ],
      "text/latex": [
       "\\begin{tabular}{r|lllll}\n",
       " iris.Species.test. & nearest1 & nearest5 & nearest10 & nearest50\\\\\n",
       "\\hline\n",
       "\t versicolor & virginica  & versicolor & versicolor & versicolor\\\\\n",
       "\t virginica  & virginica  & virginica  & virginica  & versicolor\\\\\n",
       "\t setosa     & setosa     & setosa     & setosa     & setosa    \\\\\n",
       "\t versicolor & versicolor & versicolor & versicolor & versicolor\\\\\n",
       "\t virginica  & virginica  & virginica  & virginica  & versicolor\\\\\n",
       "\t versicolor & versicolor & versicolor & versicolor & versicolor\\\\\n",
       "\t setosa     & setosa     & setosa     & setosa     & setosa    \\\\\n",
       "\t versicolor & versicolor & versicolor & versicolor & versicolor\\\\\n",
       "\t virginica  & virginica  & virginica  & virginica  & virginica \\\\\n",
       "\t virginica  & virginica  & virginica  & virginica  & virginica \\\\\n",
       "\t versicolor & versicolor & versicolor & versicolor & versicolor\\\\\n",
       "\t setosa     & setosa     & setosa     & setosa     & setosa    \\\\\n",
       "\t versicolor & versicolor & versicolor & versicolor & versicolor\\\\\n",
       "\t versicolor & versicolor & versicolor & versicolor & versicolor\\\\\n",
       "\t virginica  & versicolor & versicolor & versicolor & versicolor\\\\\n",
       "\t setosa     & setosa     & setosa     & setosa     & setosa    \\\\\n",
       "\t setosa     & setosa     & setosa     & setosa     & setosa    \\\\\n",
       "\t versicolor & versicolor & versicolor & versicolor & virginica \\\\\n",
       "\t setosa     & setosa     & setosa     & setosa     & setosa    \\\\\n",
       "\t versicolor & versicolor & versicolor & versicolor & versicolor\\\\\n",
       "\\end{tabular}\n"
      ],
      "text/markdown": [
       "\n",
       "| iris.Species.test. | nearest1 | nearest5 | nearest10 | nearest50 |\n",
       "|---|---|---|---|---|\n",
       "| versicolor | virginica  | versicolor | versicolor | versicolor |\n",
       "| virginica  | virginica  | virginica  | virginica  | versicolor |\n",
       "| setosa     | setosa     | setosa     | setosa     | setosa     |\n",
       "| versicolor | versicolor | versicolor | versicolor | versicolor |\n",
       "| virginica  | virginica  | virginica  | virginica  | versicolor |\n",
       "| versicolor | versicolor | versicolor | versicolor | versicolor |\n",
       "| setosa     | setosa     | setosa     | setosa     | setosa     |\n",
       "| versicolor | versicolor | versicolor | versicolor | versicolor |\n",
       "| virginica  | virginica  | virginica  | virginica  | virginica  |\n",
       "| virginica  | virginica  | virginica  | virginica  | virginica  |\n",
       "| versicolor | versicolor | versicolor | versicolor | versicolor |\n",
       "| setosa     | setosa     | setosa     | setosa     | setosa     |\n",
       "| versicolor | versicolor | versicolor | versicolor | versicolor |\n",
       "| versicolor | versicolor | versicolor | versicolor | versicolor |\n",
       "| virginica  | versicolor | versicolor | versicolor | versicolor |\n",
       "| setosa     | setosa     | setosa     | setosa     | setosa     |\n",
       "| setosa     | setosa     | setosa     | setosa     | setosa     |\n",
       "| versicolor | versicolor | versicolor | versicolor | virginica  |\n",
       "| setosa     | setosa     | setosa     | setosa     | setosa     |\n",
       "| versicolor | versicolor | versicolor | versicolor | versicolor |\n",
       "\n"
      ],
      "text/plain": [
       "   iris.Species.test. nearest1   nearest5   nearest10  nearest50 \n",
       "1  versicolor         virginica  versicolor versicolor versicolor\n",
       "2  virginica          virginica  virginica  virginica  versicolor\n",
       "3  setosa             setosa     setosa     setosa     setosa    \n",
       "4  versicolor         versicolor versicolor versicolor versicolor\n",
       "5  virginica          virginica  virginica  virginica  versicolor\n",
       "6  versicolor         versicolor versicolor versicolor versicolor\n",
       "7  setosa             setosa     setosa     setosa     setosa    \n",
       "8  versicolor         versicolor versicolor versicolor versicolor\n",
       "9  virginica          virginica  virginica  virginica  virginica \n",
       "10 virginica          virginica  virginica  virginica  virginica \n",
       "11 versicolor         versicolor versicolor versicolor versicolor\n",
       "12 setosa             setosa     setosa     setosa     setosa    \n",
       "13 versicolor         versicolor versicolor versicolor versicolor\n",
       "14 versicolor         versicolor versicolor versicolor versicolor\n",
       "15 virginica          versicolor versicolor versicolor versicolor\n",
       "16 setosa             setosa     setosa     setosa     setosa    \n",
       "17 setosa             setosa     setosa     setosa     setosa    \n",
       "18 versicolor         versicolor versicolor versicolor virginica \n",
       "19 setosa             setosa     setosa     setosa     setosa    \n",
       "20 versicolor         versicolor versicolor versicolor versicolor"
      ]
     },
     "metadata": {},
     "output_type": "display_data"
    }
   ],
   "source": [
    "##View results of each classifier\n",
    "results = data.frame(iris$Species[test],nearest1,nearest5,nearest10,nearest50)\n",
    "results"
   ]
  },
  {
   "cell_type": "code",
   "execution_count": 25,
   "metadata": {},
   "outputs": [],
   "source": [
    "# Create a cross table of predictions for each knn group\n",
    "knn1tab <- table(nearest1,results$iris.Species.test.)\n",
    "knn5tab <- table(nearest5,results$iris.Species.test.)\n",
    "knn10tab <- table(nearest10,results$iris.Species.test.)\n",
    "knn50tab <- table(nearest50,results$iris.Species.test.)\n",
    "tables <- list(knn1tab, knn5tab, knn10tab, knn50tab)"
   ]
  },
  {
   "cell_type": "code",
   "execution_count": 26,
   "metadata": {},
   "outputs": [],
   "source": [
    "# Function summing up the diagonals to calculate accuracy\n",
    "accuracy <- function(x){sum(diag(x)/(sum(rowSums(x)))) * 100}"
   ]
  },
  {
   "cell_type": "code",
   "execution_count": 27,
   "metadata": {},
   "outputs": [],
   "source": [
    "knngroup <- c(names(results[,-1]))\n",
    "knngroups <- data.frame(knngroup)"
   ]
  },
  {
   "cell_type": "code",
   "execution_count": 28,
   "metadata": {},
   "outputs": [],
   "source": [
    "i <- 1\n",
    "scores <- vector()\n",
    "\n",
    "while (i < length(knngroup)) {\n",
    "    for (tab in tables){\n",
    "        scores[i] <- accuracy(tab)\n",
    "        i <- i+1\n",
    "    }    \n",
    "}"
   ]
  },
  {
   "cell_type": "code",
   "execution_count": 31,
   "metadata": {},
   "outputs": [
    {
     "data": {
      "text/html": [
       "<table>\n",
       "<thead><tr><th scope=col>knngroup</th><th scope=col>scores</th></tr></thead>\n",
       "<tbody>\n",
       "\t<tr><td>nearest1 </td><td>90       </td></tr>\n",
       "\t<tr><td>nearest5 </td><td>95       </td></tr>\n",
       "\t<tr><td>nearest10</td><td>95       </td></tr>\n",
       "\t<tr><td>nearest50</td><td>80       </td></tr>\n",
       "</tbody>\n",
       "</table>\n"
      ],
      "text/latex": [
       "\\begin{tabular}{r|ll}\n",
       " knngroup & scores\\\\\n",
       "\\hline\n",
       "\t nearest1  & 90       \\\\\n",
       "\t nearest5  & 95       \\\\\n",
       "\t nearest10 & 95       \\\\\n",
       "\t nearest50 & 80       \\\\\n",
       "\\end{tabular}\n"
      ],
      "text/markdown": [
       "\n",
       "| knngroup | scores |\n",
       "|---|---|\n",
       "| nearest1  | 90        |\n",
       "| nearest5  | 95        |\n",
       "| nearest10 | 95        |\n",
       "| nearest50 | 80        |\n",
       "\n"
      ],
      "text/plain": [
       "  knngroup  scores\n",
       "1 nearest1  90    \n",
       "2 nearest5  95    \n",
       "3 nearest10 95    \n",
       "4 nearest50 80    "
      ]
     },
     "metadata": {},
     "output_type": "display_data"
    }
   ],
   "source": [
    "newResults <- cbind(knngroups, scores)\n",
    "newResults$knngroup <- factor(newResults$knngroup, levels = newResults$knngroup[order(newResults$scores)])\n",
    "newResults"
   ]
  },
  {
   "cell_type": "code",
   "execution_count": 32,
   "metadata": {},
   "outputs": [
    {
     "data": {
      "image/png": "[encoded data removed]",
      "text/plain": [
       "plot without title"
      ]
     },
     "metadata": {},
     "output_type": "display_data"
    }
   ],
   "source": [
    "# options(repr.plot.width = 10, repr.plot.height = 6)\n",
    "# barplot(scores ~ knngroup, data = newResults,beside=TRUE)\n",
    "\n",
    "ggplot(newResults, aes(x = knngroup, y = scores)) + geom_bar(stat = \"identity\", width = 0.5)"
   ]
  }
 ],
 "metadata": {
  "kernelspec": {
   "display_name": "R",
   "language": "R",
   "name": "ir"
  },
  "language_info": {
   "codemirror_mode": "r",
   "file_extension": ".r",
   "mimetype": "text/x-r-source",
   "name": "R",
   "pygments_lexer": "r",
   "version": "3.6.1"
  }
 },
 "nbformat": 4,
 "nbformat_minor": 2
}
