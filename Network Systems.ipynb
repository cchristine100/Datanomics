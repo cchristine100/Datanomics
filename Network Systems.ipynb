{
 "cells": [
  {
   "cell_type": "markdown",
   "metadata": {},
   "source": [
    "# Network Systems\n",
    "\n",
    "This program is a simple graph to describe the relationships (friendships or professional) on various social media sites, such as Facebook and LinkedIn. \n",
    "\n",
    "Each node in a friendship graph represents a person. Each person has incoming and outgoing edges leading to other nodes (people). Some nodes are symmetric, while others are asymmetric, and some nodes do not have relationships with anyone.\n",
    "\n",
    "Rules\n",
    "- if >= 1/2 of a node's friends like a song, the node will be influenced\n",
    "- math.ceil is used to round odd number up when calculating # of friends\n",
    "- nodes that don't have relations are not influenced\n",
    "\n",
    "This program is written to show the network effect: how friends can influence one another, and how many nodes are required for the entire graph to be influenced."
   ]
  },
  {
   "cell_type": "code",
   "execution_count": 2,
   "metadata": {},
   "outputs": [],
   "source": [
    "# Open file and store as an object\n",
    "\n",
    "file = open(\"C:/Users/Christine/Documents/Data Sci/ICS 33/python files/Program_1/graph1a.txt\", 'r')\n",
    "lines = file.readlines()"
   ]
  },
  {
   "cell_type": "code",
   "execution_count": 3,
   "metadata": {},
   "outputs": [
    {
     "name": "stdout",
     "output_type": "stream",
     "text": [
      "['Annie;Beatrice\\n', 'Annie;Charlie\\n', 'Beatrice;Charlie\\n', 'Charlie;Daniel\\n', 'Charlie;Tara\\n', 'Daniel;Eric\\n', 'Daniel;Frank\\n', 'Daniel;Tara\\n', 'Charlie;Gareth\\n', 'Gareth;Harrison\\n', 'Gareth;Jacob\\n', 'Iris;Jacob\\n', 'Karen;Tara\\n', 'Tara;Teresa\\n', 'Tara;Oscar\\n', 'Oscar;Victor\\n', 'Wallie']\n"
     ]
    }
   ],
   "source": [
    "print(lines)"
   ]
  },
  {
   "cell_type": "code",
   "execution_count": 4,
   "metadata": {},
   "outputs": [],
   "source": [
    "from math import ceil\n",
    "import networkx as nx\n",
    "import matplotlib as plt"
   ]
  },
  {
   "cell_type": "markdown",
   "metadata": {},
   "source": [
    "## Create a dictionary to store values\n",
    "\n",
    "Each dictionary stores the node and its relationships "
   ]
  },
  {
   "cell_type": "code",
   "execution_count": 5,
   "metadata": {},
   "outputs": [
    {
     "name": "stdout",
     "output_type": "stream",
     "text": [
      "[('Annie', 'Beatrice'), ('Annie', 'Charlie'), ('Beatrice', 'Charlie'), ('Charlie', 'Daniel'), ('Charlie', 'Tara'), ('Daniel', 'Eric'), ('Daniel', 'Frank'), ('Daniel', 'Tara'), ('Charlie', 'Gareth'), ('Gareth', 'Harrison'), ('Gareth', 'Jacob'), ('Iris', 'Jacob'), ('Karen', 'Tara'), ('Tara', 'Teresa'), ('Tara', 'Oscar'), ('Oscar', 'Victor'), ('Wallie',)]\n"
     ]
    }
   ],
   "source": [
    "items = [tuple(line.strip('\\n').split(';')) for line in lines]\n",
    "print(items)"
   ]
  },
  {
   "cell_type": "code",
   "execution_count": 6,
   "metadata": {},
   "outputs": [],
   "source": [
    "# Create a dictionary to store values\n",
    "store_dict = dict(list())\n",
    "\n",
    "# Create a influencer dictionary\n",
    "infl_dict = dict(set()) "
   ]
  },
  {
   "cell_type": "code",
   "execution_count": 9,
   "metadata": {},
   "outputs": [
    {
     "name": "stdout",
     "output_type": "stream",
     "text": [
      "{'Annie': ['Beatrice', 'Charlie'], 'Beatrice': ['Annie'], 'Charlie': ['Annie', 'Daniel', 'Tara', 'Gareth'], 'Daniel': ['Charlie', 'Eric', 'Frank'], 'Tara': ['Charlie', 'Karen', 'Teresa', 'Oscar'], 'Eric': ['Daniel'], 'Frank': ['Daniel'], 'Gareth': ['Charlie', 'Harrison', 'Jacob'], 'Harrison': ['Gareth'], 'Jacob': ['Gareth', 'Iris'], 'Iris': ['Jacob'], 'Karen': ['Tara'], 'Teresa': ['Tara'], 'Oscar': ['Tara', 'Victor'], 'Victor': ['Oscar'], 'Wallie': []}\n"
     ]
    }
   ],
   "source": [
    "def read_graph():\n",
    "    '''returns the dictionary representing friendship graph'''\n",
    "    for item in items:\n",
    "        if len(item) == 2:\n",
    "            if item[0] in store_dict and item[1] not in store_dict:\n",
    "                store_dict[item[0]].append(item[1])\n",
    "                store_dict[item[1]] = [item[0]]\n",
    "            elif item[1] in store_dict and item[0] not in store_dict:\n",
    "                store_dict[item[1]].append(item[0])\n",
    "                store_dict[item[0]] = [item[1]]\n",
    "            elif items[0] not in store_dict.keys() and item[1] not in store_dict.keys():\n",
    "                store_dict[item[0]] = [item[1]]\n",
    "                store_dict[item[1]] = [item[0]]\n",
    "            else:\n",
    "                [store_dict[item[0]]].append(item[1])\n",
    "                [store_dict[item[1]]].append(item[0])\n",
    "        else:\n",
    "            store_dict[item[0]] = []\n",
    "\n",
    "#create initial store_dict\n",
    "read_graph()\n",
    "print(store_dict)"
   ]
  },
  {
   "cell_type": "code",
   "execution_count": 10,
   "metadata": {},
   "outputs": [
    {
     "name": "stdout",
     "output_type": "stream",
     "text": [
      "Annie -> ['Beatrice', 'Charlie']\n",
      "Beatrice -> ['Annie']\n",
      "Charlie -> ['Annie', 'Daniel', 'Tara', 'Gareth']\n",
      "Daniel -> ['Charlie', 'Eric', 'Frank']\n",
      "Tara -> ['Charlie', 'Karen', 'Teresa', 'Oscar']\n",
      "Eric -> ['Daniel']\n",
      "Frank -> ['Daniel']\n",
      "Gareth -> ['Charlie', 'Harrison', 'Jacob']\n",
      "Harrison -> ['Gareth']\n",
      "Jacob -> ['Gareth', 'Iris']\n",
      "Iris -> ['Jacob']\n",
      "Karen -> ['Tara']\n",
      "Teresa -> ['Tara']\n",
      "Oscar -> ['Tara', 'Victor']\n",
      "Victor -> ['Oscar']\n",
      "Wallie -> []\n"
     ]
    }
   ],
   "source": [
    "# shows graph as a str\n",
    "\n",
    "def graph_as_str(dict):\n",
    "    '''when printed shows contents of graph'''\n",
    "    for k, v in store_dict.items():\n",
    "        print(k, '->', v)\n",
    "        \n",
    "graph_as_str(store_dict)"
   ]
  },
  {
   "cell_type": "markdown",
   "metadata": {},
   "source": [
    "## Visualizing the network"
   ]
  },
  {
   "cell_type": "code",
   "execution_count": 12,
   "metadata": {},
   "outputs": [
    {
     "data": {
      "image/png": "[encoded data removed]",
      "text/plain": [
       "<Figure size 432x288 with 1 Axes>"
      ]
     },
     "metadata": {},
     "output_type": "display_data"
    }
   ],
   "source": [
    "G=nx.Graph()\n",
    "G.add_nodes_from(store_dict.keys())\n",
    "items2=items\n",
    "#items2.remove(('Wallie',))\n",
    "G.add_edges_from(items2)\n",
    "nx.draw(G,with_labels = True, node_size=500, node_color='yellow')"
   ]
  },
  {
   "cell_type": "markdown",
   "metadata": {},
   "source": [
    "## Create an influencer dictionary\n",
    "\n",
    "Each dictionary item represents a node. Each node is a 3-list\n",
    "- index 0: the number of friends of the node minus the number of friends needed to influence the node \n",
    "    (this second value is the ceil of half the number of its friends); but, if a node contains no friends, \n",
    "    the value stored at index 0 should be -1.\n",
    "- index 1: the number of friends of the node\n",
    "- index 2: the node name itself (duplicating the key)\n"
   ]
  },
  {
   "cell_type": "code",
   "execution_count": 13,
   "metadata": {},
   "outputs": [],
   "source": [
    "# shows nodes that can be influenced\n",
    "\n",
    "def all_influenced():\n",
    "    '''compute/return set of nodes that can be influenced by set'''\n",
    "    return(set(infl_dict.keys()))\n",
    "    "
   ]
  },
  {
   "cell_type": "code",
   "execution_count": 14,
   "metadata": {},
   "outputs": [
    {
     "name": "stdout",
     "output_type": "stream",
     "text": [
      "influencer dictionary: {'Annie': [0, 1, 'Annie'], 'Beatrice': [0, 1, 'Beatrice'], 'Charlie': [2, 4, 'Charlie'], 'Daniel': [1, 3, 'Daniel'], 'Tara': [2, 4, 'Tara'], 'Eric': [0, 1, 'Eric'], 'Frank': [0, 1, 'Frank'], 'Gareth': [1, 3, 'Gareth'], 'Harrison': [0, 1, 'Harrison'], 'Jacob': [1, 2, 'Jacob'], 'Iris': [0, 1, 'Iris'], 'Karen': [0, 1, 'Karen'], 'Teresa': [0, 1, 'Teresa'], 'Oscar': [1, 2, 'Oscar'], 'Victor': [0, 1, 'Victor'], 'Wallie': [-1, 0, 'Wallie']}\n",
      "removal candidates [[0, 1, 'Annie'], [2, 4, 'Charlie'], [1, 3, 'Daniel'], [2, 4, 'Tara'], [0, 1, 'Eric'], [0, 1, 'Frank'], [1, 3, 'Gareth'], [0, 1, 'Harrison'], [1, 2, 'Jacob'], [0, 1, 'Iris'], [0, 1, 'Karen'], [0, 1, 'Teresa'], [1, 2, 'Oscar'], [0, 1, 'Victor']]\n",
      "[0, 1, 'Beatrice'] is the smallest candidate\n",
      "Removing Beatrice as key from influencer dictionary & decreasing friends values\n",
      "influencer dictionary: {'Annie': [0, 1, 'Annie'], 'Charlie': [1, 3, 'Charlie'], 'Daniel': [1, 3, 'Daniel'], 'Tara': [2, 4, 'Tara'], 'Eric': [0, 1, 'Eric'], 'Frank': [0, 1, 'Frank'], 'Gareth': [1, 3, 'Gareth'], 'Harrison': [0, 1, 'Harrison'], 'Jacob': [1, 2, 'Jacob'], 'Iris': [0, 1, 'Iris'], 'Karen': [0, 1, 'Karen'], 'Teresa': [0, 1, 'Teresa'], 'Oscar': [1, 2, 'Oscar'], 'Victor': [0, 1, 'Victor'], 'Wallie': [-1, 0, 'Wallie']}\n",
      "removal candidates [[1, 3, 'Charlie'], [1, 3, 'Daniel'], [2, 4, 'Tara'], [0, 1, 'Eric'], [0, 1, 'Frank'], [1, 3, 'Gareth'], [0, 1, 'Harrison'], [1, 2, 'Jacob'], [0, 1, 'Iris'], [0, 1, 'Karen'], [0, 1, 'Teresa'], [1, 2, 'Oscar'], [0, 1, 'Victor']]\n",
      "[0, 1, 'Annie'] is the smallest candidate\n",
      "Removing Annie as key from influencer dictionary & decreasing friends values\n",
      "influencer dictionary: {'Charlie': [1, 3, 'Charlie'], 'Daniel': [0, 2, 'Daniel'], 'Tara': [2, 4, 'Tara'], 'Eric': [0, 1, 'Eric'], 'Frank': [0, 1, 'Frank'], 'Gareth': [1, 3, 'Gareth'], 'Harrison': [0, 1, 'Harrison'], 'Jacob': [1, 2, 'Jacob'], 'Iris': [0, 1, 'Iris'], 'Karen': [0, 1, 'Karen'], 'Teresa': [0, 1, 'Teresa'], 'Oscar': [1, 2, 'Oscar'], 'Victor': [0, 1, 'Victor'], 'Wallie': [-1, 0, 'Wallie']}\n",
      "removal candidates [[1, 3, 'Charlie'], [0, 2, 'Daniel'], [2, 4, 'Tara'], [0, 1, 'Frank'], [1, 3, 'Gareth'], [0, 1, 'Harrison'], [1, 2, 'Jacob'], [0, 1, 'Iris'], [0, 1, 'Karen'], [0, 1, 'Teresa'], [1, 2, 'Oscar'], [0, 1, 'Victor']]\n",
      "[0, 1, 'Eric'] is the smallest candidate\n",
      "Removing Eric as key from influencer dictionary & decreasing friends values\n",
      "influencer dictionary: {'Charlie': [1, 3, 'Charlie'], 'Daniel': [-1, 1, 'Daniel'], 'Tara': [2, 4, 'Tara'], 'Frank': [0, 1, 'Frank'], 'Gareth': [1, 3, 'Gareth'], 'Harrison': [0, 1, 'Harrison'], 'Jacob': [1, 2, 'Jacob'], 'Iris': [0, 1, 'Iris'], 'Karen': [0, 1, 'Karen'], 'Teresa': [0, 1, 'Teresa'], 'Oscar': [1, 2, 'Oscar'], 'Victor': [0, 1, 'Victor'], 'Wallie': [-1, 0, 'Wallie']}\n",
      "removal candidates [[1, 3, 'Charlie'], [-1, 1, 'Daniel'], [2, 4, 'Tara'], [1, 3, 'Gareth'], [0, 1, 'Harrison'], [1, 2, 'Jacob'], [0, 1, 'Iris'], [0, 1, 'Karen'], [0, 1, 'Teresa'], [1, 2, 'Oscar'], [0, 1, 'Victor']]\n",
      "[0, 1, 'Frank'] is the smallest candidate\n",
      "Removing Frank as key from influencer dictionary & decreasing friends values\n",
      "influencer dictionary: {'Charlie': [1, 3, 'Charlie'], 'Daniel': [-1, 1, 'Daniel'], 'Tara': [2, 4, 'Tara'], 'Gareth': [0, 2, 'Gareth'], 'Harrison': [0, 1, 'Harrison'], 'Jacob': [1, 2, 'Jacob'], 'Iris': [0, 1, 'Iris'], 'Karen': [0, 1, 'Karen'], 'Teresa': [0, 1, 'Teresa'], 'Oscar': [1, 2, 'Oscar'], 'Victor': [0, 1, 'Victor'], 'Wallie': [-1, 0, 'Wallie']}\n",
      "removal candidates [[1, 3, 'Charlie'], [2, 4, 'Tara'], [0, 2, 'Gareth'], [1, 2, 'Jacob'], [0, 1, 'Iris'], [0, 1, 'Karen'], [0, 1, 'Teresa'], [1, 2, 'Oscar'], [0, 1, 'Victor']]\n",
      "[0, 1, 'Harrison'] is the smallest candidate\n",
      "Removing Harrison as key from influencer dictionary & decreasing friends values\n",
      "influencer dictionary: {'Charlie': [1, 3, 'Charlie'], 'Daniel': [-1, 1, 'Daniel'], 'Tara': [2, 4, 'Tara'], 'Gareth': [0, 2, 'Gareth'], 'Jacob': [0, 1, 'Jacob'], 'Iris': [0, 1, 'Iris'], 'Karen': [0, 1, 'Karen'], 'Teresa': [0, 1, 'Teresa'], 'Oscar': [1, 2, 'Oscar'], 'Victor': [0, 1, 'Victor'], 'Wallie': [-1, 0, 'Wallie']}\n",
      "removal candidates [[1, 3, 'Charlie'], [2, 4, 'Tara'], [0, 2, 'Gareth'], [0, 1, 'Jacob'], [0, 1, 'Karen'], [0, 1, 'Teresa'], [1, 2, 'Oscar'], [0, 1, 'Victor']]\n",
      "[0, 1, 'Iris'] is the smallest candidate\n",
      "Removing Iris as key from influencer dictionary & decreasing friends values\n",
      "influencer dictionary: {'Charlie': [1, 3, 'Charlie'], 'Daniel': [-1, 1, 'Daniel'], 'Tara': [2, 4, 'Tara'], 'Gareth': [-1, 1, 'Gareth'], 'Jacob': [0, 1, 'Jacob'], 'Karen': [0, 1, 'Karen'], 'Teresa': [0, 1, 'Teresa'], 'Oscar': [1, 2, 'Oscar'], 'Victor': [0, 1, 'Victor'], 'Wallie': [-1, 0, 'Wallie']}\n",
      "removal candidates [[1, 3, 'Charlie'], [2, 4, 'Tara'], [-1, 1, 'Gareth'], [0, 1, 'Karen'], [0, 1, 'Teresa'], [1, 2, 'Oscar'], [0, 1, 'Victor']]\n",
      "[0, 1, 'Jacob'] is the smallest candidate\n",
      "Removing Jacob as key from influencer dictionary & decreasing friends values\n",
      "influencer dictionary: {'Charlie': [1, 3, 'Charlie'], 'Daniel': [-1, 1, 'Daniel'], 'Tara': [1, 3, 'Tara'], 'Gareth': [-1, 1, 'Gareth'], 'Karen': [0, 1, 'Karen'], 'Teresa': [0, 1, 'Teresa'], 'Oscar': [1, 2, 'Oscar'], 'Victor': [0, 1, 'Victor'], 'Wallie': [-1, 0, 'Wallie']}\n",
      "removal candidates [[1, 3, 'Charlie'], [1, 3, 'Tara'], [0, 1, 'Teresa'], [1, 2, 'Oscar'], [0, 1, 'Victor']]\n",
      "[0, 1, 'Karen'] is the smallest candidate\n",
      "Removing Karen as key from influencer dictionary & decreasing friends values\n",
      "influencer dictionary: {'Charlie': [1, 3, 'Charlie'], 'Daniel': [-1, 1, 'Daniel'], 'Tara': [0, 2, 'Tara'], 'Gareth': [-1, 1, 'Gareth'], 'Teresa': [0, 1, 'Teresa'], 'Oscar': [1, 2, 'Oscar'], 'Victor': [0, 1, 'Victor'], 'Wallie': [-1, 0, 'Wallie']}\n",
      "removal candidates [[1, 3, 'Charlie'], [0, 2, 'Tara'], [1, 2, 'Oscar'], [0, 1, 'Victor']]\n",
      "[0, 1, 'Teresa'] is the smallest candidate\n",
      "Removing Teresa as key from influencer dictionary & decreasing friends values\n",
      "influencer dictionary: {'Charlie': [1, 3, 'Charlie'], 'Daniel': [-1, 1, 'Daniel'], 'Tara': [0, 2, 'Tara'], 'Gareth': [-1, 1, 'Gareth'], 'Oscar': [0, 1, 'Oscar'], 'Victor': [0, 1, 'Victor'], 'Wallie': [-1, 0, 'Wallie']}\n",
      "removal candidates [[1, 3, 'Charlie'], [0, 2, 'Tara'], [0, 1, 'Oscar']]\n",
      "[0, 1, 'Victor'] is the smallest candidate\n",
      "Removing Victor as key from influencer dictionary & decreasing friends values\n",
      "influencer dictionary: {'Charlie': [1, 3, 'Charlie'], 'Daniel': [-1, 1, 'Daniel'], 'Tara': [-1, 1, 'Tara'], 'Gareth': [-1, 1, 'Gareth'], 'Oscar': [0, 1, 'Oscar'], 'Wallie': [-1, 0, 'Wallie']}\n",
      "removal candidates [[1, 3, 'Charlie'], [-1, 1, 'Tara']]\n",
      "[0, 1, 'Oscar'] is the smallest candidate\n",
      "Removing Oscar as key from influencer dictionary & decreasing friends values\n",
      "influencer dictionary: {'Charlie': [1, 3, 'Charlie'], 'Daniel': [-2, 0, 'Daniel'], 'Tara': [-2, 0, 'Tara'], 'Gareth': [-2, 0, 'Gareth'], 'Wallie': [-1, 0, 'Wallie']}\n",
      "removal candidates []\n",
      "[1, 3, 'Charlie'] is the smallest candidate\n",
      "Removing Charlie as key from influencer dictionary & decreasing friends values\n"
     ]
    }
   ],
   "source": [
    "# Create influencer algorithm to find nodes that influence\n",
    "# Either set trace = true/false\n",
    "\n",
    "def find_influencers(trace = False):\n",
    "    '''compute/return small set of nodes that can influence everyone'''\n",
    "    # Build initial infl_dict\n",
    "    for k,v in store_dict.items():\n",
    "        if len(v) != 0:\n",
    "            infl_dict[k] = [len(v)-ceil(len(v)/2), len(v), k]\n",
    "        else:\n",
    "            infl_dict[k] = [-1, len(v), k]\n",
    "\n",
    "    # Removal candidates\n",
    "    remove_cand = [v for v in infl_dict.values() if v[0]>=0]\n",
    "    \n",
    "    while len(remove_cand)!=0:\n",
    "        # find smallest candidate\n",
    "        sm_cand = sorted(remove_cand, key=lambda x : x[1])[0]\n",
    "\n",
    "        # removing smallest candidate from remove_cand\n",
    "        for r in remove_cand:\n",
    "            if r[2] == sm_cand[2]:\n",
    "                remove_cand.remove(r)\n",
    "        \n",
    "        # removing smallest candidate from infl_dict and friend's values\n",
    "        for k,v in store_dict.items():\n",
    "            if sm_cand[2] in v:\n",
    "                v = v.remove(sm_cand[2])\n",
    "                infl_dict[k][0]-=1\n",
    "                infl_dict[k][1]-=1\n",
    "                \n",
    "        if trace == True:\n",
    "            G.add_nodes_from(store_dict.keys())\n",
    "            print('influencer dictionary:', infl_dict)\n",
    "            print('removal candidates', remove_cand)\n",
    "            print(sm_cand, 'is the smallest candidate')\n",
    "            print('Removing', sm_cand[2], 'as key from influencer dictionary & decreasing friends values')            \n",
    "        infl_dict.pop(sm_cand[2])\n",
    "        store_dict.pop(sm_cand[2])\n",
    "        remove_cand = [v for v in infl_dict.values() if v[0]>=0]\n",
    "        \n",
    "find_influencers(True)\n",
    "unreached = all_influenced()"
   ]
  },
  {
   "cell_type": "code",
   "execution_count": 15,
   "metadata": {},
   "outputs": [
    {
     "data": {
      "text/plain": [
       "{'Daniel', 'Gareth', 'Tara', 'Wallie'}"
      ]
     },
     "execution_count": 15,
     "metadata": {},
     "output_type": "execute_result"
    }
   ],
   "source": [
    "unreached"
   ]
  },
  {
   "cell_type": "code",
   "execution_count": null,
   "metadata": {},
   "outputs": [],
   "source": [
    "file.close()"
   ]
  }
 ],
 "metadata": {
  "kernelspec": {
   "display_name": "Python 3",
   "language": "python",
   "name": "python3"
  },
  "language_info": {
   "codemirror_mode": {
    "name": "ipython",
    "version": 3
   },
   "file_extension": ".py",
   "mimetype": "text/x-python",
   "name": "python",
   "nbconvert_exporter": "python",
   "pygments_lexer": "ipython3",
   "version": "3.7.3"
  }
 },
 "nbformat": 4,
 "nbformat_minor": 2
}
