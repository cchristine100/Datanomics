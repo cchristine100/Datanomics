{
 "cells": [
  {
   "cell_type": "markdown",
   "metadata": {},
   "source": [
    "# Decision Trees & Random Forests to Predict Spam\n",
    "- regression & classification trees\n",
    "- random forests take the average prediction values by bagging (taking random samples from population with replacement) and feature randomization\n",
    "\n",
    "### Decision Tree"
   ]
  },
  {
   "cell_type": "code",
   "execution_count": 41,
   "metadata": {},
   "outputs": [
    {
     "name": "stderr",
     "output_type": "stream",
     "text": [
      "Loading required package: lattice\n",
      "Loading required package: ggplot2\n",
      "Registered S3 methods overwritten by 'ggplot2':\n",
      "  method         from \n",
      "  [.quosures     rlang\n",
      "  c.quosures     rlang\n",
      "  print.quosures rlang\n",
      "\n",
      "Attaching package: 'ggplot2'\n",
      "\n",
      "The following object is masked from 'package:randomForest':\n",
      "\n",
      "    margin\n",
      "\n"
     ]
    }
   ],
   "source": [
    "library(tree)\n",
    "library(ISLR)\n",
    "library(readr)\n",
    "library(caret)"
   ]
  },
  {
   "cell_type": "code",
   "execution_count": 2,
   "metadata": {},
   "outputs": [
    {
     "name": "stderr",
     "output_type": "stream",
     "text": [
      "Parsed with column specification:\n",
      "cols(\n",
      "  .default = col_double()\n",
      ")\n",
      "See spec(...) for full column specifications.\n"
     ]
    },
    {
     "data": {
      "text/html": [
       "<table>\n",
       "<thead><tr><th scope=col>word_make</th><th scope=col>word_address</th><th scope=col>word_all</th><th scope=col>word_3d</th><th scope=col>word_our</th><th scope=col>word_over</th><th scope=col>word_remove</th><th scope=col>word_internet</th><th scope=col>word_order</th><th scope=col>word_mail</th><th scope=col>...</th><th scope=col>char_semicolon</th><th scope=col>char_leftbrac</th><th scope=col>char_leftsquarebrac</th><th scope=col>char_exclaim</th><th scope=col>char_dollar</th><th scope=col>char_pound</th><th scope=col>capital_run_length_average</th><th scope=col>capital_run_length_longest</th><th scope=col>capital_run_length_total</th><th scope=col>spam</th></tr></thead>\n",
       "<tbody>\n",
       "\t<tr><td>0    </td><td>1    </td><td>1    </td><td>0    </td><td>1    </td><td>0    </td><td>0    </td><td>0    </td><td>0    </td><td>0    </td><td>...  </td><td>0    </td><td>0    </td><td>0    </td><td>1    </td><td>0    </td><td>0    </td><td>3.756</td><td> 61  </td><td> 278 </td><td>1    </td></tr>\n",
       "\t<tr><td>1    </td><td>1    </td><td>1    </td><td>0    </td><td>1    </td><td>1    </td><td>1    </td><td>1    </td><td>0    </td><td>1    </td><td>...  </td><td>0    </td><td>1    </td><td>0    </td><td>1    </td><td>1    </td><td>1    </td><td>5.114</td><td>101  </td><td>1028 </td><td>1    </td></tr>\n",
       "\t<tr><td>1    </td><td>0    </td><td>1    </td><td>0    </td><td>1    </td><td>1    </td><td>1    </td><td>1    </td><td>1    </td><td>1    </td><td>...  </td><td>1    </td><td>1    </td><td>0    </td><td>1    </td><td>1    </td><td>1    </td><td>9.821</td><td>485  </td><td>2259 </td><td>1    </td></tr>\n",
       "\t<tr><td>0    </td><td>0    </td><td>0    </td><td>0    </td><td>1    </td><td>0    </td><td>1    </td><td>1    </td><td>1    </td><td>1    </td><td>...  </td><td>0    </td><td>1    </td><td>0    </td><td>1    </td><td>0    </td><td>0    </td><td>3.537</td><td> 40  </td><td> 191 </td><td>1    </td></tr>\n",
       "\t<tr><td>0    </td><td>0    </td><td>0    </td><td>0    </td><td>1    </td><td>0    </td><td>1    </td><td>1    </td><td>1    </td><td>1    </td><td>...  </td><td>0    </td><td>1    </td><td>0    </td><td>1    </td><td>0    </td><td>0    </td><td>3.537</td><td> 40  </td><td> 191 </td><td>1    </td></tr>\n",
       "\t<tr><td>0    </td><td>0    </td><td>0    </td><td>0    </td><td>1    </td><td>0    </td><td>0    </td><td>1    </td><td>0    </td><td>0    </td><td>...  </td><td>0    </td><td>1    </td><td>0    </td><td>0    </td><td>0    </td><td>0    </td><td>3.000</td><td> 15  </td><td>  54 </td><td>1    </td></tr>\n",
       "</tbody>\n",
       "</table>\n"
      ],
      "text/latex": [
       "\\begin{tabular}{r|llllllllllllllllllllllllllllllllllllllllllllllllllllllllll}\n",
       " word\\_make & word\\_address & word\\_all & word\\_3d & word\\_our & word\\_over & word\\_remove & word\\_internet & word\\_order & word\\_mail & ... & char\\_semicolon & char\\_leftbrac & char\\_leftsquarebrac & char\\_exclaim & char\\_dollar & char\\_pound & capital\\_run\\_length\\_average & capital\\_run\\_length\\_longest & capital\\_run\\_length\\_total & spam\\\\\n",
       "\\hline\n",
       "\t 0     & 1     & 1     & 0     & 1     & 0     & 0     & 0     & 0     & 0     & ...   & 0     & 0     & 0     & 1     & 0     & 0     & 3.756 &  61   &  278  & 1    \\\\\n",
       "\t 1     & 1     & 1     & 0     & 1     & 1     & 1     & 1     & 0     & 1     & ...   & 0     & 1     & 0     & 1     & 1     & 1     & 5.114 & 101   & 1028  & 1    \\\\\n",
       "\t 1     & 0     & 1     & 0     & 1     & 1     & 1     & 1     & 1     & 1     & ...   & 1     & 1     & 0     & 1     & 1     & 1     & 9.821 & 485   & 2259  & 1    \\\\\n",
       "\t 0     & 0     & 0     & 0     & 1     & 0     & 1     & 1     & 1     & 1     & ...   & 0     & 1     & 0     & 1     & 0     & 0     & 3.537 &  40   &  191  & 1    \\\\\n",
       "\t 0     & 0     & 0     & 0     & 1     & 0     & 1     & 1     & 1     & 1     & ...   & 0     & 1     & 0     & 1     & 0     & 0     & 3.537 &  40   &  191  & 1    \\\\\n",
       "\t 0     & 0     & 0     & 0     & 1     & 0     & 0     & 1     & 0     & 0     & ...   & 0     & 1     & 0     & 0     & 0     & 0     & 3.000 &  15   &   54  & 1    \\\\\n",
       "\\end{tabular}\n"
      ],
      "text/markdown": [
       "\n",
       "| word_make | word_address | word_all | word_3d | word_our | word_over | word_remove | word_internet | word_order | word_mail | ... | char_semicolon | char_leftbrac | char_leftsquarebrac | char_exclaim | char_dollar | char_pound | capital_run_length_average | capital_run_length_longest | capital_run_length_total | spam |\n",
       "|---|---|---|---|---|---|---|---|---|---|---|---|---|---|---|---|---|---|---|---|---|\n",
       "| 0     | 1     | 1     | 0     | 1     | 0     | 0     | 0     | 0     | 0     | ...   | 0     | 0     | 0     | 1     | 0     | 0     | 3.756 |  61   |  278  | 1     |\n",
       "| 1     | 1     | 1     | 0     | 1     | 1     | 1     | 1     | 0     | 1     | ...   | 0     | 1     | 0     | 1     | 1     | 1     | 5.114 | 101   | 1028  | 1     |\n",
       "| 1     | 0     | 1     | 0     | 1     | 1     | 1     | 1     | 1     | 1     | ...   | 1     | 1     | 0     | 1     | 1     | 1     | 9.821 | 485   | 2259  | 1     |\n",
       "| 0     | 0     | 0     | 0     | 1     | 0     | 1     | 1     | 1     | 1     | ...   | 0     | 1     | 0     | 1     | 0     | 0     | 3.537 |  40   |  191  | 1     |\n",
       "| 0     | 0     | 0     | 0     | 1     | 0     | 1     | 1     | 1     | 1     | ...   | 0     | 1     | 0     | 1     | 0     | 0     | 3.537 |  40   |  191  | 1     |\n",
       "| 0     | 0     | 0     | 0     | 1     | 0     | 0     | 1     | 0     | 0     | ...   | 0     | 1     | 0     | 0     | 0     | 0     | 3.000 |  15   |   54  | 1     |\n",
       "\n"
      ],
      "text/plain": [
       "  word_make word_address word_all word_3d word_our word_over word_remove\n",
       "1 0         1            1        0       1        0         0          \n",
       "2 1         1            1        0       1        1         1          \n",
       "3 1         0            1        0       1        1         1          \n",
       "4 0         0            0        0       1        0         1          \n",
       "5 0         0            0        0       1        0         1          \n",
       "6 0         0            0        0       1        0         0          \n",
       "  word_internet word_order word_mail ... char_semicolon char_leftbrac\n",
       "1 0             0          0         ... 0              0            \n",
       "2 1             0          1         ... 0              1            \n",
       "3 1             1          1         ... 1              1            \n",
       "4 1             1          1         ... 0              1            \n",
       "5 1             1          1         ... 0              1            \n",
       "6 1             0          0         ... 0              1            \n",
       "  char_leftsquarebrac char_exclaim char_dollar char_pound\n",
       "1 0                   1            0           0         \n",
       "2 0                   1            1           1         \n",
       "3 0                   1            1           1         \n",
       "4 0                   1            0           0         \n",
       "5 0                   1            0           0         \n",
       "6 0                   0            0           0         \n",
       "  capital_run_length_average capital_run_length_longest\n",
       "1 3.756                       61                       \n",
       "2 5.114                      101                       \n",
       "3 9.821                      485                       \n",
       "4 3.537                       40                       \n",
       "5 3.537                       40                       \n",
       "6 3.000                       15                       \n",
       "  capital_run_length_total spam\n",
       "1  278                     1   \n",
       "2 1028                     1   \n",
       "3 2259                     1   \n",
       "4  191                     1   \n",
       "5  191                     1   \n",
       "6   54                     1   "
      ]
     },
     "metadata": {},
     "output_type": "display_data"
    }
   ],
   "source": [
    "# Load data\n",
    "head(spam_df)"
   ]
  },
  {
   "cell_type": "code",
   "execution_count": 3,
   "metadata": {},
   "outputs": [],
   "source": [
    "attach(spam_df)"
   ]
  },
  {
   "cell_type": "code",
   "execution_count": 4,
   "metadata": {},
   "outputs": [
    {
     "data": {
      "text/html": [
       "<table>\n",
       "<thead><tr><th scope=col>word_make</th><th scope=col>word_address</th><th scope=col>word_all</th><th scope=col>word_3d</th><th scope=col>word_our</th><th scope=col>word_over</th><th scope=col>word_remove</th><th scope=col>word_internet</th><th scope=col>word_order</th><th scope=col>word_mail</th><th scope=col>...</th><th scope=col>char_semicolon</th><th scope=col>char_leftbrac</th><th scope=col>char_leftsquarebrac</th><th scope=col>char_exclaim</th><th scope=col>char_dollar</th><th scope=col>char_pound</th><th scope=col>capital_run_length_average</th><th scope=col>capital_run_length_longest</th><th scope=col>capital_run_length_total</th><th scope=col>Spam</th></tr></thead>\n",
       "<tbody>\n",
       "\t<tr><td>0    </td><td>1    </td><td>1    </td><td>0    </td><td>1    </td><td>0    </td><td>0    </td><td>0    </td><td>0    </td><td>0    </td><td>...  </td><td>0    </td><td>0    </td><td>0    </td><td>1    </td><td>0    </td><td>0    </td><td>3.756</td><td> 61  </td><td> 278 </td><td>yes  </td></tr>\n",
       "\t<tr><td>1    </td><td>1    </td><td>1    </td><td>0    </td><td>1    </td><td>1    </td><td>1    </td><td>1    </td><td>0    </td><td>1    </td><td>...  </td><td>0    </td><td>1    </td><td>0    </td><td>1    </td><td>1    </td><td>1    </td><td>5.114</td><td>101  </td><td>1028 </td><td>yes  </td></tr>\n",
       "\t<tr><td>1    </td><td>0    </td><td>1    </td><td>0    </td><td>1    </td><td>1    </td><td>1    </td><td>1    </td><td>1    </td><td>1    </td><td>...  </td><td>1    </td><td>1    </td><td>0    </td><td>1    </td><td>1    </td><td>1    </td><td>9.821</td><td>485  </td><td>2259 </td><td>yes  </td></tr>\n",
       "\t<tr><td>0    </td><td>0    </td><td>0    </td><td>0    </td><td>1    </td><td>0    </td><td>1    </td><td>1    </td><td>1    </td><td>1    </td><td>...  </td><td>0    </td><td>1    </td><td>0    </td><td>1    </td><td>0    </td><td>0    </td><td>3.537</td><td> 40  </td><td> 191 </td><td>yes  </td></tr>\n",
       "\t<tr><td>0    </td><td>0    </td><td>0    </td><td>0    </td><td>1    </td><td>0    </td><td>1    </td><td>1    </td><td>1    </td><td>1    </td><td>...  </td><td>0    </td><td>1    </td><td>0    </td><td>1    </td><td>0    </td><td>0    </td><td>3.537</td><td> 40  </td><td> 191 </td><td>yes  </td></tr>\n",
       "\t<tr><td>0    </td><td>0    </td><td>0    </td><td>0    </td><td>1    </td><td>0    </td><td>0    </td><td>1    </td><td>0    </td><td>0    </td><td>...  </td><td>0    </td><td>1    </td><td>0    </td><td>0    </td><td>0    </td><td>0    </td><td>3.000</td><td> 15  </td><td>  54 </td><td>yes  </td></tr>\n",
       "</tbody>\n",
       "</table>\n"
      ],
      "text/latex": [
       "\\begin{tabular}{r|llllllllllllllllllllllllllllllllllllllllllllllllllllllllll}\n",
       " word\\_make & word\\_address & word\\_all & word\\_3d & word\\_our & word\\_over & word\\_remove & word\\_internet & word\\_order & word\\_mail & ... & char\\_semicolon & char\\_leftbrac & char\\_leftsquarebrac & char\\_exclaim & char\\_dollar & char\\_pound & capital\\_run\\_length\\_average & capital\\_run\\_length\\_longest & capital\\_run\\_length\\_total & Spam\\\\\n",
       "\\hline\n",
       "\t 0     & 1     & 1     & 0     & 1     & 0     & 0     & 0     & 0     & 0     & ...   & 0     & 0     & 0     & 1     & 0     & 0     & 3.756 &  61   &  278  & yes  \\\\\n",
       "\t 1     & 1     & 1     & 0     & 1     & 1     & 1     & 1     & 0     & 1     & ...   & 0     & 1     & 0     & 1     & 1     & 1     & 5.114 & 101   & 1028  & yes  \\\\\n",
       "\t 1     & 0     & 1     & 0     & 1     & 1     & 1     & 1     & 1     & 1     & ...   & 1     & 1     & 0     & 1     & 1     & 1     & 9.821 & 485   & 2259  & yes  \\\\\n",
       "\t 0     & 0     & 0     & 0     & 1     & 0     & 1     & 1     & 1     & 1     & ...   & 0     & 1     & 0     & 1     & 0     & 0     & 3.537 &  40   &  191  & yes  \\\\\n",
       "\t 0     & 0     & 0     & 0     & 1     & 0     & 1     & 1     & 1     & 1     & ...   & 0     & 1     & 0     & 1     & 0     & 0     & 3.537 &  40   &  191  & yes  \\\\\n",
       "\t 0     & 0     & 0     & 0     & 1     & 0     & 0     & 1     & 0     & 0     & ...   & 0     & 1     & 0     & 0     & 0     & 0     & 3.000 &  15   &   54  & yes  \\\\\n",
       "\\end{tabular}\n"
      ],
      "text/markdown": [
       "\n",
       "| word_make | word_address | word_all | word_3d | word_our | word_over | word_remove | word_internet | word_order | word_mail | ... | char_semicolon | char_leftbrac | char_leftsquarebrac | char_exclaim | char_dollar | char_pound | capital_run_length_average | capital_run_length_longest | capital_run_length_total | Spam |\n",
       "|---|---|---|---|---|---|---|---|---|---|---|---|---|---|---|---|---|---|---|---|---|\n",
       "| 0     | 1     | 1     | 0     | 1     | 0     | 0     | 0     | 0     | 0     | ...   | 0     | 0     | 0     | 1     | 0     | 0     | 3.756 |  61   |  278  | yes   |\n",
       "| 1     | 1     | 1     | 0     | 1     | 1     | 1     | 1     | 0     | 1     | ...   | 0     | 1     | 0     | 1     | 1     | 1     | 5.114 | 101   | 1028  | yes   |\n",
       "| 1     | 0     | 1     | 0     | 1     | 1     | 1     | 1     | 1     | 1     | ...   | 1     | 1     | 0     | 1     | 1     | 1     | 9.821 | 485   | 2259  | yes   |\n",
       "| 0     | 0     | 0     | 0     | 1     | 0     | 1     | 1     | 1     | 1     | ...   | 0     | 1     | 0     | 1     | 0     | 0     | 3.537 |  40   |  191  | yes   |\n",
       "| 0     | 0     | 0     | 0     | 1     | 0     | 1     | 1     | 1     | 1     | ...   | 0     | 1     | 0     | 1     | 0     | 0     | 3.537 |  40   |  191  | yes   |\n",
       "| 0     | 0     | 0     | 0     | 1     | 0     | 0     | 1     | 0     | 0     | ...   | 0     | 1     | 0     | 0     | 0     | 0     | 3.000 |  15   |   54  | yes   |\n",
       "\n"
      ],
      "text/plain": [
       "  word_make word_address word_all word_3d word_our word_over word_remove\n",
       "1 0         1            1        0       1        0         0          \n",
       "2 1         1            1        0       1        1         1          \n",
       "3 1         0            1        0       1        1         1          \n",
       "4 0         0            0        0       1        0         1          \n",
       "5 0         0            0        0       1        0         1          \n",
       "6 0         0            0        0       1        0         0          \n",
       "  word_internet word_order word_mail ... char_semicolon char_leftbrac\n",
       "1 0             0          0         ... 0              0            \n",
       "2 1             0          1         ... 0              1            \n",
       "3 1             1          1         ... 1              1            \n",
       "4 1             1          1         ... 0              1            \n",
       "5 1             1          1         ... 0              1            \n",
       "6 1             0          0         ... 0              1            \n",
       "  char_leftsquarebrac char_exclaim char_dollar char_pound\n",
       "1 0                   1            0           0         \n",
       "2 0                   1            1           1         \n",
       "3 0                   1            1           1         \n",
       "4 0                   1            0           0         \n",
       "5 0                   1            0           0         \n",
       "6 0                   0            0           0         \n",
       "  capital_run_length_average capital_run_length_longest\n",
       "1 3.756                       61                       \n",
       "2 5.114                      101                       \n",
       "3 9.821                      485                       \n",
       "4 3.537                       40                       \n",
       "5 3.537                       40                       \n",
       "6 3.000                       15                       \n",
       "  capital_run_length_total Spam\n",
       "1  278                     yes \n",
       "2 1028                     yes \n",
       "3 2259                     yes \n",
       "4  191                     yes \n",
       "5  191                     yes \n",
       "6   54                     yes "
      ]
     },
     "metadata": {},
     "output_type": "display_data"
    }
   ],
   "source": [
    "# relabel spam column as yes/no\n",
    "Spam = ifelse(spam==1, 'yes', 'no')\n",
    "spam_df  = subset(spam_df, select = -c(spam))\n",
    "spam_df = data.frame(spam_df, Spam)\n",
    "\n",
    "head(spam_df)"
   ]
  },
  {
   "cell_type": "code",
   "execution_count": 5,
   "metadata": {},
   "outputs": [
    {
     "data": {
      "text/plain": [
       "\n",
       "Classification tree:\n",
       "tree(formula = Spam ~ ., data = spam_df)\n",
       "Variables actually used in tree construction:\n",
       " [1] \"char_exclaim\"               \"word_remove\"               \n",
       " [3] \"word_george\"                \"word_money\"                \n",
       " [5] \"word_hp\"                    \"capital_run_length_longest\"\n",
       " [7] \"char_dollar\"                \"capital_run_length_average\"\n",
       " [9] \"word_free\"                  \"word_edu\"                  \n",
       "Number of terminal nodes:  14 \n",
       "Residual mean deviance:  0.533 = 2445 / 4587 \n",
       "Misclassification error rate: 0.1072 = 493 / 4601 "
      ]
     },
     "metadata": {},
     "output_type": "display_data"
    }
   ],
   "source": [
    "# Create decision Tree\n",
    "tree.spam = tree(Spam~. , data = spam_df)\n",
    "summary(tree.spam)"
   ]
  },
  {
   "cell_type": "code",
   "execution_count": 6,
   "metadata": {},
   "outputs": [
    {
     "data": {
      "image/png": "[encoded data removed]",
      "text/plain": [
       "plot without title"
      ]
     },
     "metadata": {},
     "output_type": "display_data"
    }
   ],
   "source": [
    "plot(tree.spam)\n",
    "text(tree.spam, pretty = 0, cex = 0.7)"
   ]
  },
  {
   "cell_type": "code",
   "execution_count": 7,
   "metadata": {},
   "outputs": [
    {
     "data": {
      "text/plain": [
       "         Spam.test\n",
       "tree.pred   no  yes\n",
       "      no  2239  354\n",
       "      yes  431 1377"
      ]
     },
     "metadata": {},
     "output_type": "display_data"
    }
   ],
   "source": [
    "# split data into training and testing set\n",
    "set.seed(3)\n",
    "train = sample(1: nrow(spam_df), 200) # random sample of size 200\n",
    "\n",
    "spam.testing = spam_df[-train,] \n",
    "Spam.test = Spam[-train] # Spam column without training data\n",
    "\n",
    "tree.spam = tree(Spam ~. , data = spam_df, subset = train) # tree model\n",
    "tree.pred = predict(tree.spam, spam.testing, type = 'class') # make prediction with tree & testing data\n",
    "\n",
    "# compare predictions to actual test data\n",
    "table(tree.pred, Spam.test)\n"
   ]
  },
  {
   "cell_type": "code",
   "execution_count": 8,
   "metadata": {},
   "outputs": [
    {
     "data": {
      "text/html": [
       "0.785916105194523"
      ],
      "text/latex": [
       "0.785916105194523"
      ],
      "text/markdown": [
       "0.785916105194523"
      ],
      "text/plain": [
       "[1] 0.7859161"
      ]
     },
     "metadata": {},
     "output_type": "display_data"
    }
   ],
   "source": [
    "(2239+1377)/4601"
   ]
  },
  {
   "cell_type": "code",
   "execution_count": 9,
   "metadata": {},
   "outputs": [
    {
     "data": {
      "text/plain": [
       "$size\n",
       "[1] 13  8  7  4  3  2  1\n",
       "\n",
       "$dev\n",
       "[1] 30 30 30 31 34 47 83\n",
       "\n",
       "$k\n",
       "[1] -Inf    0    1    2    4    9   48\n",
       "\n",
       "$method\n",
       "[1] \"misclass\"\n",
       "\n",
       "attr(,\"class\")\n",
       "[1] \"prune\"         \"tree.sequence\""
      ]
     },
     "metadata": {},
     "output_type": "display_data"
    }
   ],
   "source": [
    "set.seed(4)\n",
    "\n",
    "# use classification error to guide cross validation and pruning\n",
    "cv.spam = cv.tree(tree.spam, FUN = prune.misclass)\n",
    "cv.spam"
   ]
  },
  {
   "cell_type": "code",
   "execution_count": 10,
   "metadata": {},
   "outputs": [
    {
     "data": {
      "text/plain": [
       "         Spam.test\n",
       "spam.pred   no  yes\n",
       "      no  2289  303\n",
       "      yes  381 1428"
      ]
     },
     "metadata": {},
     "output_type": "display_data"
    },
    {
     "data": {
      "image/png": "[encoded data removed]",
      "text/plain": [
       "plot without title"
      ]
     },
     "metadata": {},
     "output_type": "display_data"
    }
   ],
   "source": [
    "# prune with 7 node tree\n",
    "\n",
    "prune.spam = prune.misclass(tree.spam, best = 7)\n",
    "plot(prune.spam)\n",
    "text(prune.spam,pretty=0, cex = 0.7)\n",
    "\n",
    "spam.pred = predict(prune.spam, spam.testing, type = 'class')\n",
    "table(spam.pred, Spam.test)"
   ]
  },
  {
   "cell_type": "code",
   "execution_count": 11,
   "metadata": {},
   "outputs": [
    {
     "data": {
      "text/html": [
       "0.807867854814171"
      ],
      "text/latex": [
       "0.807867854814171"
      ],
      "text/markdown": [
       "0.807867854814171"
      ],
      "text/plain": [
       "[1] 0.8078679"
      ]
     },
     "metadata": {},
     "output_type": "display_data"
    }
   ],
   "source": [
    "(2289 + 1428)/4601"
   ]
  },
  {
   "cell_type": "markdown",
   "metadata": {},
   "source": [
    "### Random Forest"
   ]
  },
  {
   "cell_type": "code",
   "execution_count": 45,
   "metadata": {},
   "outputs": [
    {
     "data": {
      "text/plain": [
       "\n",
       "Call:\n",
       " randomForest(formula = Spam ~ ., data = spam_df, subset = train) \n",
       "               Type of random forest: classification\n",
       "                     Number of trees: 500\n",
       "No. of variables tried at each split: 7\n",
       "\n",
       "        OOB estimate of  error rate: 7%\n",
       "Confusion matrix:\n",
       "     no yes class.error\n",
       "no  111   7  0.05932203\n",
       "yes   7  75  0.08536585"
      ]
     },
     "metadata": {},
     "output_type": "display_data"
    }
   ],
   "source": [
    "library(randomForest)\n",
    "\n",
    "set.seed(5)\n",
    "\n",
    "rf.spam = randomForest(Spam ~ . , data = spam_df, subset = train)\n",
    "rf.spam"
   ]
  },
  {
   "cell_type": "code",
   "execution_count": 46,
   "metadata": {},
   "outputs": [
    {
     "data": {
      "text/html": [
       "0.93"
      ],
      "text/latex": [
       "0.93"
      ],
      "text/markdown": [
       "0.93"
      ],
      "text/plain": [
       "[1] 0.93"
      ]
     },
     "metadata": {},
     "output_type": "display_data"
    }
   ],
   "source": [
    "(111+75)/(111+75+7+7)"
   ]
  },
  {
   "cell_type": "code",
   "execution_count": 42,
   "metadata": {},
   "outputs": [
    {
     "data": {
      "text/html": [
       "<table>\n",
       "<thead><tr><th></th><th scope=col>Overall</th></tr></thead>\n",
       "<tbody>\n",
       "\t<tr><th scope=row>word_make</th><td> 0.51399258</td></tr>\n",
       "\t<tr><th scope=row>word_address</th><td> 0.55744114</td></tr>\n",
       "\t<tr><th scope=row>word_all</th><td> 0.98154495</td></tr>\n",
       "\t<tr><th scope=row>word_3d</th><td> 0.15875315</td></tr>\n",
       "\t<tr><th scope=row>word_our</th><td> 2.46976819</td></tr>\n",
       "\t<tr><th scope=row>word_over</th><td> 0.23581373</td></tr>\n",
       "\t<tr><th scope=row>word_remove</th><td> 6.03578336</td></tr>\n",
       "\t<tr><th scope=row>word_internet</th><td> 1.75171624</td></tr>\n",
       "\t<tr><th scope=row>word_order</th><td> 0.26848368</td></tr>\n",
       "\t<tr><th scope=row>word_mail</th><td> 0.63868392</td></tr>\n",
       "\t<tr><th scope=row>word_receive</th><td> 0.57555656</td></tr>\n",
       "\t<tr><th scope=row>word_will</th><td> 0.62714091</td></tr>\n",
       "\t<tr><th scope=row>word_people</th><td> 0.39774759</td></tr>\n",
       "\t<tr><th scope=row>word_report</th><td> 0.04978768</td></tr>\n",
       "\t<tr><th scope=row>word_addresses</th><td> 0.23035703</td></tr>\n",
       "\t<tr><th scope=row>word_free</th><td> 3.76720031</td></tr>\n",
       "\t<tr><th scope=row>word_business</th><td> 0.96377191</td></tr>\n",
       "\t<tr><th scope=row>word_email</th><td> 0.45694212</td></tr>\n",
       "\t<tr><th scope=row>word_you</th><td> 2.23403652</td></tr>\n",
       "\t<tr><th scope=row>word_credit</th><td> 0.39257123</td></tr>\n",
       "\t<tr><th scope=row>word_your</th><td> 2.91778045</td></tr>\n",
       "\t<tr><th scope=row>word_font</th><td> 0.03808233</td></tr>\n",
       "\t<tr><th scope=row>word_000</th><td> 1.35196064</td></tr>\n",
       "\t<tr><th scope=row>word_money</th><td> 2.88928701</td></tr>\n",
       "\t<tr><th scope=row>word_hp</th><td> 3.05067539</td></tr>\n",
       "\t<tr><th scope=row>word_hpl</th><td> 1.70377625</td></tr>\n",
       "\t<tr><th scope=row>word_george</th><td> 1.45038669</td></tr>\n",
       "\t<tr><th scope=row>word_650</th><td> 1.19207176</td></tr>\n",
       "\t<tr><th scope=row>word_lab</th><td> 0.55078093</td></tr>\n",
       "\t<tr><th scope=row>word_labs</th><td> 0.53497711</td></tr>\n",
       "\t<tr><th scope=row>word_telnet</th><td> 0.15789298</td></tr>\n",
       "\t<tr><th scope=row>word_857</th><td> 0.06622554</td></tr>\n",
       "\t<tr><th scope=row>word_data</th><td> 0.66953568</td></tr>\n",
       "\t<tr><th scope=row>word_415</th><td> 0.06362809</td></tr>\n",
       "\t<tr><th scope=row>word_85</th><td> 0.61937900</td></tr>\n",
       "\t<tr><th scope=row>word_technology</th><td> 0.44303480</td></tr>\n",
       "\t<tr><th scope=row>word_1999</th><td> 3.42275806</td></tr>\n",
       "\t<tr><th scope=row>word_parts</th><td> 0.02553189</td></tr>\n",
       "\t<tr><th scope=row>word_pm</th><td> 0.16141956</td></tr>\n",
       "\t<tr><th scope=row>word_direct</th><td> 0.09622107</td></tr>\n",
       "\t<tr><th scope=row>word_cs</th><td> 0.26409023</td></tr>\n",
       "\t<tr><th scope=row>word_meeting</th><td> 0.29903163</td></tr>\n",
       "\t<tr><th scope=row>word_original</th><td> 0.29775136</td></tr>\n",
       "\t<tr><th scope=row>word_project</th><td> 0.20303524</td></tr>\n",
       "\t<tr><th scope=row>word_re</th><td> 0.61179037</td></tr>\n",
       "\t<tr><th scope=row>word_edu</th><td> 0.66204941</td></tr>\n",
       "\t<tr><th scope=row>word_table</th><td> 0.00000000</td></tr>\n",
       "\t<tr><th scope=row>word_conference</th><td> 0.22157375</td></tr>\n",
       "\t<tr><th scope=row>char_semicolon</th><td> 0.33441047</td></tr>\n",
       "\t<tr><th scope=row>char_leftbrac</th><td> 0.70238837</td></tr>\n",
       "\t<tr><th scope=row>char_leftsquarebrac</th><td> 0.17878479</td></tr>\n",
       "\t<tr><th scope=row>char_exclaim</th><td> 9.31551864</td></tr>\n",
       "\t<tr><th scope=row>char_dollar</th><td> 3.87239629</td></tr>\n",
       "\t<tr><th scope=row>char_pound</th><td> 0.83483764</td></tr>\n",
       "\t<tr><th scope=row>capital_run_length_average</th><td>15.43065112</td></tr>\n",
       "\t<tr><th scope=row>capital_run_length_longest</th><td> 9.93343311</td></tr>\n",
       "\t<tr><th scope=row>capital_run_length_total</th><td> 6.09941644</td></tr>\n",
       "</tbody>\n",
       "</table>\n"
      ],
      "text/latex": [
       "\\begin{tabular}{r|l}\n",
       "  & Overall\\\\\n",
       "\\hline\n",
       "\tword\\_make &  0.51399258\\\\\n",
       "\tword\\_address &  0.55744114\\\\\n",
       "\tword\\_all &  0.98154495\\\\\n",
       "\tword\\_3d &  0.15875315\\\\\n",
       "\tword\\_our &  2.46976819\\\\\n",
       "\tword\\_over &  0.23581373\\\\\n",
       "\tword\\_remove &  6.03578336\\\\\n",
       "\tword\\_internet &  1.75171624\\\\\n",
       "\tword\\_order &  0.26848368\\\\\n",
       "\tword\\_mail &  0.63868392\\\\\n",
       "\tword\\_receive &  0.57555656\\\\\n",
       "\tword\\_will &  0.62714091\\\\\n",
       "\tword\\_people &  0.39774759\\\\\n",
       "\tword\\_report &  0.04978768\\\\\n",
       "\tword\\_addresses &  0.23035703\\\\\n",
       "\tword\\_free &  3.76720031\\\\\n",
       "\tword\\_business &  0.96377191\\\\\n",
       "\tword\\_email &  0.45694212\\\\\n",
       "\tword\\_you &  2.23403652\\\\\n",
       "\tword\\_credit &  0.39257123\\\\\n",
       "\tword\\_your &  2.91778045\\\\\n",
       "\tword\\_font &  0.03808233\\\\\n",
       "\tword\\_000 &  1.35196064\\\\\n",
       "\tword\\_money &  2.88928701\\\\\n",
       "\tword\\_hp &  3.05067539\\\\\n",
       "\tword\\_hpl &  1.70377625\\\\\n",
       "\tword\\_george &  1.45038669\\\\\n",
       "\tword\\_650 &  1.19207176\\\\\n",
       "\tword\\_lab &  0.55078093\\\\\n",
       "\tword\\_labs &  0.53497711\\\\\n",
       "\tword\\_telnet &  0.15789298\\\\\n",
       "\tword\\_857 &  0.06622554\\\\\n",
       "\tword\\_data &  0.66953568\\\\\n",
       "\tword\\_415 &  0.06362809\\\\\n",
       "\tword\\_85 &  0.61937900\\\\\n",
       "\tword\\_technology &  0.44303480\\\\\n",
       "\tword\\_1999 &  3.42275806\\\\\n",
       "\tword\\_parts &  0.02553189\\\\\n",
       "\tword\\_pm &  0.16141956\\\\\n",
       "\tword\\_direct &  0.09622107\\\\\n",
       "\tword\\_cs &  0.26409023\\\\\n",
       "\tword\\_meeting &  0.29903163\\\\\n",
       "\tword\\_original &  0.29775136\\\\\n",
       "\tword\\_project &  0.20303524\\\\\n",
       "\tword\\_re &  0.61179037\\\\\n",
       "\tword\\_edu &  0.66204941\\\\\n",
       "\tword\\_table &  0.00000000\\\\\n",
       "\tword\\_conference &  0.22157375\\\\\n",
       "\tchar\\_semicolon &  0.33441047\\\\\n",
       "\tchar\\_leftbrac &  0.70238837\\\\\n",
       "\tchar\\_leftsquarebrac &  0.17878479\\\\\n",
       "\tchar\\_exclaim &  9.31551864\\\\\n",
       "\tchar\\_dollar &  3.87239629\\\\\n",
       "\tchar\\_pound &  0.83483764\\\\\n",
       "\tcapital\\_run\\_length\\_average & 15.43065112\\\\\n",
       "\tcapital\\_run\\_length\\_longest &  9.93343311\\\\\n",
       "\tcapital\\_run\\_length\\_total &  6.09941644\\\\\n",
       "\\end{tabular}\n"
      ],
      "text/markdown": [
       "\n",
       "| <!--/--> | Overall |\n",
       "|---|---|\n",
       "| word_make |  0.51399258 |\n",
       "| word_address |  0.55744114 |\n",
       "| word_all |  0.98154495 |\n",
       "| word_3d |  0.15875315 |\n",
       "| word_our |  2.46976819 |\n",
       "| word_over |  0.23581373 |\n",
       "| word_remove |  6.03578336 |\n",
       "| word_internet |  1.75171624 |\n",
       "| word_order |  0.26848368 |\n",
       "| word_mail |  0.63868392 |\n",
       "| word_receive |  0.57555656 |\n",
       "| word_will |  0.62714091 |\n",
       "| word_people |  0.39774759 |\n",
       "| word_report |  0.04978768 |\n",
       "| word_addresses |  0.23035703 |\n",
       "| word_free |  3.76720031 |\n",
       "| word_business |  0.96377191 |\n",
       "| word_email |  0.45694212 |\n",
       "| word_you |  2.23403652 |\n",
       "| word_credit |  0.39257123 |\n",
       "| word_your |  2.91778045 |\n",
       "| word_font |  0.03808233 |\n",
       "| word_000 |  1.35196064 |\n",
       "| word_money |  2.88928701 |\n",
       "| word_hp |  3.05067539 |\n",
       "| word_hpl |  1.70377625 |\n",
       "| word_george |  1.45038669 |\n",
       "| word_650 |  1.19207176 |\n",
       "| word_lab |  0.55078093 |\n",
       "| word_labs |  0.53497711 |\n",
       "| word_telnet |  0.15789298 |\n",
       "| word_857 |  0.06622554 |\n",
       "| word_data |  0.66953568 |\n",
       "| word_415 |  0.06362809 |\n",
       "| word_85 |  0.61937900 |\n",
       "| word_technology |  0.44303480 |\n",
       "| word_1999 |  3.42275806 |\n",
       "| word_parts |  0.02553189 |\n",
       "| word_pm |  0.16141956 |\n",
       "| word_direct |  0.09622107 |\n",
       "| word_cs |  0.26409023 |\n",
       "| word_meeting |  0.29903163 |\n",
       "| word_original |  0.29775136 |\n",
       "| word_project |  0.20303524 |\n",
       "| word_re |  0.61179037 |\n",
       "| word_edu |  0.66204941 |\n",
       "| word_table |  0.00000000 |\n",
       "| word_conference |  0.22157375 |\n",
       "| char_semicolon |  0.33441047 |\n",
       "| char_leftbrac |  0.70238837 |\n",
       "| char_leftsquarebrac |  0.17878479 |\n",
       "| char_exclaim |  9.31551864 |\n",
       "| char_dollar |  3.87239629 |\n",
       "| char_pound |  0.83483764 |\n",
       "| capital_run_length_average | 15.43065112 |\n",
       "| capital_run_length_longest |  9.93343311 |\n",
       "| capital_run_length_total |  6.09941644 |\n",
       "\n"
      ],
      "text/plain": [
       "                           Overall    \n",
       "word_make                   0.51399258\n",
       "word_address                0.55744114\n",
       "word_all                    0.98154495\n",
       "word_3d                     0.15875315\n",
       "word_our                    2.46976819\n",
       "word_over                   0.23581373\n",
       "word_remove                 6.03578336\n",
       "word_internet               1.75171624\n",
       "word_order                  0.26848368\n",
       "word_mail                   0.63868392\n",
       "word_receive                0.57555656\n",
       "word_will                   0.62714091\n",
       "word_people                 0.39774759\n",
       "word_report                 0.04978768\n",
       "word_addresses              0.23035703\n",
       "word_free                   3.76720031\n",
       "word_business               0.96377191\n",
       "word_email                  0.45694212\n",
       "word_you                    2.23403652\n",
       "word_credit                 0.39257123\n",
       "word_your                   2.91778045\n",
       "word_font                   0.03808233\n",
       "word_000                    1.35196064\n",
       "word_money                  2.88928701\n",
       "word_hp                     3.05067539\n",
       "word_hpl                    1.70377625\n",
       "word_george                 1.45038669\n",
       "word_650                    1.19207176\n",
       "word_lab                    0.55078093\n",
       "word_labs                   0.53497711\n",
       "word_telnet                 0.15789298\n",
       "word_857                    0.06622554\n",
       "word_data                   0.66953568\n",
       "word_415                    0.06362809\n",
       "word_85                     0.61937900\n",
       "word_technology             0.44303480\n",
       "word_1999                   3.42275806\n",
       "word_parts                  0.02553189\n",
       "word_pm                     0.16141956\n",
       "word_direct                 0.09622107\n",
       "word_cs                     0.26409023\n",
       "word_meeting                0.29903163\n",
       "word_original               0.29775136\n",
       "word_project                0.20303524\n",
       "word_re                     0.61179037\n",
       "word_edu                    0.66204941\n",
       "word_table                  0.00000000\n",
       "word_conference             0.22157375\n",
       "char_semicolon              0.33441047\n",
       "char_leftbrac               0.70238837\n",
       "char_leftsquarebrac         0.17878479\n",
       "char_exclaim                9.31551864\n",
       "char_dollar                 3.87239629\n",
       "char_pound                  0.83483764\n",
       "capital_run_length_average 15.43065112\n",
       "capital_run_length_longest  9.93343311\n",
       "capital_run_length_total    6.09941644"
      ]
     },
     "metadata": {},
     "output_type": "display_data"
    }
   ],
   "source": [
    "varImp(rf.spam)"
   ]
  },
  {
   "cell_type": "code",
   "execution_count": 43,
   "metadata": {},
   "outputs": [
    {
     "data": {
      "image/png": "[encoded data removed]",
      "text/plain": [
       "Plot with title \"rf.spam\""
      ]
     },
     "metadata": {},
     "output_type": "display_data"
    }
   ],
   "source": [
    "varImpPlot(rf.spam,type=2)"
   ]
  }
 ],
 "metadata": {
  "kernelspec": {
   "display_name": "R",
   "language": "R",
   "name": "ir"
  },
  "language_info": {
   "codemirror_mode": "r",
   "file_extension": ".r",
   "mimetype": "text/x-r-source",
   "name": "R",
   "pygments_lexer": "r",
   "version": "3.6.1"
  }
 },
 "nbformat": 4,
 "nbformat_minor": 4
}
