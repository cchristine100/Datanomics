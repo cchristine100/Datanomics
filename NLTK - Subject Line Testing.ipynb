{
 "cells": [
  {
   "cell_type": "markdown",
   "metadata": {},
   "source": [
    "# Subject Line Testing\n",
    "\n",
    "We will evaluate subject-line performance using key performance indicators, including: \n",
    "\n",
    "- open rate\n",
    "- optout rate\n",
    "\n",
    "To do so, we will calculate the correlation of subject line words and campaign performance to build a library of high-performance words used in subject lines"
   ]
  },
  {
   "cell_type": "code",
   "execution_count": 35,
   "metadata": {},
   "outputs": [],
   "source": [
    "import pandas as pd #dataframe objects\n",
    "import nltk #natural langugage toolkit\n",
    "import seaborn as sns #graphical tool\n",
    "from functools import reduce\n",
    "import matplotlib.pyplot as plt"
   ]
  },
  {
   "cell_type": "code",
   "execution_count": 36,
   "metadata": {},
   "outputs": [],
   "source": [
    "filepath = 'C:/Users/Christine/Documents/SL_Data.xlsx'\n",
    "sl_data = pd.read_excel(filepath)"
   ]
  },
  {
   "cell_type": "code",
   "execution_count": 37,
   "metadata": {},
   "outputs": [
    {
     "data": {
      "text/html": [
       "<div>\n",
       "<style scoped>\n",
       "    .dataframe tbody tr th:only-of-type {\n",
       "        vertical-align: middle;\n",
       "    }\n",
       "\n",
       "    .dataframe tbody tr th {\n",
       "        vertical-align: top;\n",
       "    }\n",
       "\n",
       "    .dataframe thead th {\n",
       "        text-align: right;\n",
       "    }\n",
       "</style>\n",
       "<table border=\"1\" class=\"dataframe\">\n",
       "  <thead>\n",
       "    <tr style=\"text-align: right;\">\n",
       "      <th></th>\n",
       "      <th>campaign_id</th>\n",
       "      <th>subbusiness_unit_nm</th>\n",
       "      <th>event_date_id</th>\n",
       "      <th>subject_line</th>\n",
       "      <th>campaign_desc</th>\n",
       "      <th>sent</th>\n",
       "      <th>bounced</th>\n",
       "      <th>bounce_rate</th>\n",
       "      <th>opened</th>\n",
       "      <th>open_rate</th>\n",
       "      <th>click</th>\n",
       "      <th>click_rate</th>\n",
       "      <th>optout</th>\n",
       "      <th>optout_rate</th>\n",
       "    </tr>\n",
       "  </thead>\n",
       "  <tbody>\n",
       "    <tr>\n",
       "      <th>0</th>\n",
       "      <td>190504706</td>\n",
       "      <td>DISNEY.COM</td>\n",
       "      <td>2019-05-13</td>\n",
       "      <td>Here's wishing YOU more birthday fun!</td>\n",
       "      <td>20190513_CDE_20190510_BUID:047_Disney.comHappy...</td>\n",
       "      <td>13833</td>\n",
       "      <td>139</td>\n",
       "      <td>0.010048</td>\n",
       "      <td>58987</td>\n",
       "      <td>4.264223</td>\n",
       "      <td>2429</td>\n",
       "      <td>0.002941</td>\n",
       "      <td>406</td>\n",
       "      <td>0.000492</td>\n",
       "    </tr>\n",
       "    <tr>\n",
       "      <th>1</th>\n",
       "      <td>190303204</td>\n",
       "      <td>DISNEY INTERACTIVE STUDIOS</td>\n",
       "      <td>2019-03-29</td>\n",
       "      <td>NOW AVAILBLE - DuckTales on Plot Twists!</td>\n",
       "      <td>20190329_CDE_20190326_BUID:032_DIS DuckTalesAm...</td>\n",
       "      <td>398</td>\n",
       "      <td>17</td>\n",
       "      <td>0.042714</td>\n",
       "      <td>634</td>\n",
       "      <td>1.592965</td>\n",
       "      <td>4</td>\n",
       "      <td>0.003155</td>\n",
       "      <td>3</td>\n",
       "      <td>0.002366</td>\n",
       "    </tr>\n",
       "    <tr>\n",
       "      <th>2</th>\n",
       "      <td>190504705</td>\n",
       "      <td>DISNEY.COM</td>\n",
       "      <td>2019-05-15</td>\n",
       "      <td>All The Disney Films and TV Shows Coming to Di...</td>\n",
       "      <td>20190515_CDE_20190512_BUID:047_Disney.comCIMNa...</td>\n",
       "      <td>314360</td>\n",
       "      <td>433</td>\n",
       "      <td>0.001377</td>\n",
       "      <td>397592</td>\n",
       "      <td>1.264767</td>\n",
       "      <td>28196</td>\n",
       "      <td>0.008865</td>\n",
       "      <td>2140</td>\n",
       "      <td>0.000673</td>\n",
       "    </tr>\n",
       "    <tr>\n",
       "      <th>3</th>\n",
       "      <td>_Bb9bI8B9umOCat</td>\n",
       "      <td>DISNEY CHANNEL</td>\n",
       "      <td>2018-11-30</td>\n",
       "      <td>Congratulations! You are a Disney Channel Frea...</td>\n",
       "      <td>20181130_CDE_20181127_BUID:073_DisneyChannelFr...</td>\n",
       "      <td>20</td>\n",
       "      <td>0</td>\n",
       "      <td>0.000000</td>\n",
       "      <td>24</td>\n",
       "      <td>1.200000</td>\n",
       "      <td>12</td>\n",
       "      <td>0.500000</td>\n",
       "      <td>0</td>\n",
       "      <td>0.000000</td>\n",
       "    </tr>\n",
       "    <tr>\n",
       "      <th>4</th>\n",
       "      <td>43112</td>\n",
       "      <td>FREEFORM</td>\n",
       "      <td>2019-06-13</td>\n",
       "      <td>TUESDAY: Good Trouble Summer Premiere at 8 on ...</td>\n",
       "      <td>UNK</td>\n",
       "      <td>26</td>\n",
       "      <td>0</td>\n",
       "      <td>0.000000</td>\n",
       "      <td>31</td>\n",
       "      <td>1.192308</td>\n",
       "      <td>31</td>\n",
       "      <td>0.250000</td>\n",
       "      <td>0</td>\n",
       "      <td>0.000000</td>\n",
       "    </tr>\n",
       "  </tbody>\n",
       "</table>\n",
       "</div>"
      ],
      "text/plain": [
       "       campaign_id         subbusiness_unit_nm event_date_id  \\\n",
       "0        190504706                  DISNEY.COM    2019-05-13   \n",
       "1        190303204  DISNEY INTERACTIVE STUDIOS    2019-03-29   \n",
       "2        190504705                  DISNEY.COM    2019-05-15   \n",
       "3  _Bb9bI8B9umOCat              DISNEY CHANNEL    2018-11-30   \n",
       "4            43112                    FREEFORM    2019-06-13   \n",
       "\n",
       "                                        subject_line  \\\n",
       "0              Here's wishing YOU more birthday fun!   \n",
       "1           NOW AVAILBLE - DuckTales on Plot Twists!   \n",
       "2  All The Disney Films and TV Shows Coming to Di...   \n",
       "3  Congratulations! You are a Disney Channel Frea...   \n",
       "4  TUESDAY: Good Trouble Summer Premiere at 8 on ...   \n",
       "\n",
       "                                       campaign_desc    sent  bounced  \\\n",
       "0  20190513_CDE_20190510_BUID:047_Disney.comHappy...   13833      139   \n",
       "1  20190329_CDE_20190326_BUID:032_DIS DuckTalesAm...     398       17   \n",
       "2  20190515_CDE_20190512_BUID:047_Disney.comCIMNa...  314360      433   \n",
       "3  20181130_CDE_20181127_BUID:073_DisneyChannelFr...      20        0   \n",
       "4                                                UNK      26        0   \n",
       "\n",
       "   bounce_rate  opened  open_rate  click  click_rate  optout  optout_rate  \n",
       "0     0.010048   58987   4.264223   2429    0.002941     406     0.000492  \n",
       "1     0.042714     634   1.592965      4    0.003155       3     0.002366  \n",
       "2     0.001377  397592   1.264767  28196    0.008865    2140     0.000673  \n",
       "3     0.000000      24   1.200000     12    0.500000       0     0.000000  \n",
       "4     0.000000      31   1.192308     31    0.250000       0     0.000000  "
      ]
     },
     "execution_count": 37,
     "metadata": {},
     "output_type": "execute_result"
    }
   ],
   "source": [
    "sl_data.head()"
   ]
  },
  {
   "cell_type": "code",
   "execution_count": 38,
   "metadata": {},
   "outputs": [
    {
     "data": {
      "text/plain": [
       "2355"
      ]
     },
     "execution_count": 38,
     "metadata": {},
     "output_type": "execute_result"
    }
   ],
   "source": [
    "# Number of rows in data set\n",
    "len(sl_data)"
   ]
  },
  {
   "cell_type": "code",
   "execution_count": 40,
   "metadata": {},
   "outputs": [
    {
     "data": {
      "text/plain": [
       "29"
      ]
     },
     "execution_count": 40,
     "metadata": {},
     "output_type": "execute_result"
    }
   ],
   "source": [
    "# Number of unique sub business units\n",
    "len(sl_data.subbusiness_unit_nm.unique())"
   ]
  },
  {
   "cell_type": "code",
   "execution_count": 42,
   "metadata": {},
   "outputs": [
    {
     "data": {
      "image/png": "[encoded data removed]",
      "text/plain": [
       "<Figure size 432x288 with 1 Axes>"
      ]
     },
     "metadata": {
      "needs_background": "light"
     },
     "output_type": "display_data"
    }
   ],
   "source": [
    "# plot of all LOBs\n",
    "\n",
    "fig,ax = plt.subplots()\n",
    "plt.plot(sl_data.subbusiness_unit_nm.unique(), sl_data['subbusiness_unit_nm'].value_counts())\n",
    "plt.xticks(rotation=90)\n",
    "plt.grid(True)\n",
    "\n",
    "plt.show()"
   ]
  },
  {
   "cell_type": "code",
   "execution_count": 43,
   "metadata": {},
   "outputs": [
    {
     "name": "stdout",
     "output_type": "stream",
     "text": [
      "ABC TELEVISION NETWORK           676\n",
      "DISNEY.COM                       288\n",
      "FREEFORM                         181\n",
      "D23                              135\n",
      "ABC NEWS                         126\n",
      "RADIO DISNEY NETWORK              91\n",
      "WALT DISNEY PICTURES              90\n",
      "DISNEY PUBLISHING WORLDWIDE       82\n",
      "DISNEY INTERACTIVE STUDIOS        67\n",
      "DISNEY CHANNEL                    65\n",
      "LUCASFILM                         63\n",
      "WALT DISNEY RECORDS               63\n",
      "EL CAPITAN                        62\n",
      "DISNEY-ABC TV GROUP               61\n",
      "WDSHE                             60\n",
      "CONSUMER PRODUCTS                 48\n",
      "DISNEY JUNIOR                     37\n",
      "FX NETWORKS                       28\n",
      "DISNEY NOW                        28\n",
      "DISNEY GIFT CARDS                 27\n",
      "DISNEY BABY                       20\n",
      "DISNEYLAND RESORT                 18\n",
      "AULANI HOTEL                      16\n",
      "WALT DISNEY WORLD RESORT          10\n",
      "HOLLYWOOD RECORDS                  4\n",
      "DISNEY THEATRICAL PRODUCTIONS      3\n",
      "ADVENTURES BY DISNEY               2\n",
      "BABBLE                             2\n",
      "DISNEY+                            2\n",
      "Name: subbusiness_unit_nm, dtype: int64\n"
     ]
    }
   ],
   "source": [
    "print(sl_data['subbusiness_unit_nm'].value_counts())"
   ]
  },
  {
   "cell_type": "code",
   "execution_count": 44,
   "metadata": {},
   "outputs": [],
   "source": [
    "# Subset for ABC network\n",
    "\n",
    "abctvnetwork_ss = sl_data[sl_data.subbusiness_unit_nm == 'ABC TELEVISION NETWORK']"
   ]
  },
  {
   "cell_type": "code",
   "execution_count": 45,
   "metadata": {},
   "outputs": [
    {
     "data": {
      "text/plain": [
       "<seaborn.axisgrid.JointGrid at 0x24ae4f886d8>"
      ]
     },
     "execution_count": 45,
     "metadata": {},
     "output_type": "execute_result"
    },
    {
     "data": {
      "image/png": "[encoded data removed]",
      "text/plain": [
       "<Figure size 360x360 with 3 Axes>"
      ]
     },
     "metadata": {
      "needs_background": "light"
     },
     "output_type": "display_data"
    }
   ],
   "source": [
    "sns.jointplot(x='sent', y='optout', data=abctvnetwork_ss , height = 5)"
   ]
  },
  {
   "cell_type": "code",
   "execution_count": 46,
   "metadata": {},
   "outputs": [
    {
     "name": "stderr",
     "output_type": "stream",
     "text": [
      "[nltk_data] Downloading package stopwords to\n",
      "[nltk_data]     C:\\Users\\Christine\\AppData\\Roaming\\nltk_data...\n",
      "[nltk_data]   Package stopwords is already up-to-date!\n"
     ]
    }
   ],
   "source": [
    "# download stopwords in nltk package\n",
    "nltk.download('stopwords')\n",
    "from nltk.corpus import stopwords"
   ]
  },
  {
   "cell_type": "code",
   "execution_count": 62,
   "metadata": {
    "scrolled": true
   },
   "outputs": [
    {
     "name": "stdout",
     "output_type": "stream",
     "text": [
      "['&', '-', 'a', 'about', 'above', 'after', 'again', 'against', 'ain', 'all', 'am', 'an', 'an', 'and', 'any', 'are', 'aren', \"aren't\", 'as', 'at', 'be', 'because', 'been', 'before', 'being', 'below', 'between', 'both', 'but', 'by', 'can', 'couldn', \"couldn't\", 'd', 'did', 'didn', \"didn't\", 'do', 'does', 'doesn', \"doesn't\", 'doing', 'don', \"don't\", 'down', 'during', 'each', 'few', 'for', 'from', 'further', 'had', 'hadn', \"hadn't\", 'has', 'hasn', \"hasn't\", 'have', 'haven', \"haven't\", 'having', 'he', 'her', 'here', 'hers', 'herself', 'him', 'himself', 'his', 'how', 'i', 'if', 'in', 'in', 'into', 'is', 'isn', \"isn't\", 'it', \"it's\", 'its', 'itself', 'just', 'll', 'm', 'ma', 'me', 'mightn', \"mightn't\", 'more', 'most', 'mustn', \"mustn't\", 'my', 'myself', 'needn', \"needn't\", 'no', 'nor', 'not', 'now', 'o', 'of', 'off', 'on', 'once', 'only', 'or', 'other', 'our', 'ours', 'ourselves', 'out', 'over', 'own', 're', 's', 'same', 'shan', \"shan't\", 'she', \"she's\", 'should', \"should've\", 'shouldn', \"shouldn't\", 'so', 'some', 'such', 't', 'than', 'that', \"that'll\", 'the', 'their', 'theirs', 'them', 'themselves', 'then', 'there', 'these', 'they', 'this', 'those', 'through', 'to', 'to', 'too', 'under', 'until', 'up', 've', 'very', 'was', 'wasn', \"wasn't\", 'we', 'were', 'weren', \"weren't\", 'what', 'when', 'where', 'which', 'while', 'who', 'whom', 'why', 'will', 'with', 'won', \"won't\", 'wouldn', \"wouldn't\", 'y', 'you', \"you'd\", \"you'll\", \"you're\", \"you've\", 'your', 'yours', 'yourself', 'yourselves', '|']\n"
     ]
    }
   ],
   "source": [
    "stop = stopwords.words('english')\n",
    "\n",
    "# depending on the context of data, may need to remove some stop words\n",
    "add_stopwords = ['to','an', '&', 'in', '-', '|']\n",
    "for word in add_stopwords:\n",
    "    stop.append(word)\n",
    "print(sorted(stop))"
   ]
  },
  {
   "cell_type": "code",
   "execution_count": 63,
   "metadata": {},
   "outputs": [
    {
     "name": "stderr",
     "output_type": "stream",
     "text": [
      "C:\\Users\\Christine\\Anaconda3\\lib\\site-packages\\ipykernel_launcher.py:4: SettingWithCopyWarning: \n",
      "A value is trying to be set on a copy of a slice from a DataFrame.\n",
      "Try using .loc[row_indexer,col_indexer] = value instead\n",
      "\n",
      "See the caveats in the documentation: http://pandas.pydata.org/pandas-docs/stable/user_guide/indexing.html#returning-a-view-versus-a-copy\n",
      "  after removing the cwd from sys.path.\n"
     ]
    }
   ],
   "source": [
    "# remove stop words from subject lines\n",
    "\n",
    "for subset in subsets:\n",
    "    subset['subject_line'] = subset['subject_line'].apply(lambda x: \" \".join(x for x in x.split() if x.lower() not in stop))"
   ]
  },
  {
   "cell_type": "markdown",
   "metadata": {},
   "source": [
    "# Correlation\n",
    "\n",
    "Correlation is a statistical technique that can show whether and how strongly pairs of variables are related\n",
    "\n",
    "\\begin{equation*}\n",
    "r_{x,y} =\n",
    "\\frac{\\sum({x_1 - \\bar x)(y_1 - \\bar y)}}{\\sqrt{\\sum({x_1 - \\bar x)^2\\sum(y_1 - \\bar y)^2}}}\n",
    "\\end{equation*}\n",
    "\n",
    "- It ranges from -1.0 to +1.0 \n",
    "- The closer r is to +1 or -1, the more closely the two variables are related\n",
    "- Here, we calculate the pairwise correlation between rows and columns with the .corrwith() method\n"
   ]
  },
  {
   "cell_type": "markdown",
   "metadata": {},
   "source": [
    "# Opens as a measurement\n",
    "\n",
    "The correlation between open rate and subject line word will be used to assess word performance. Those that have a strong, positive correlation with high open rate are considered high performing words"
   ]
  },
  {
   "cell_type": "code",
   "execution_count": 64,
   "metadata": {},
   "outputs": [],
   "source": [
    "# Open correlations for ABC network\n",
    "\n",
    "abctvnetwork_opcor = abctvnetwork_ss.subject_line.str.get_dummies(sep=' ').corrwith(abctvnetwork_ss.open_rate)"
   ]
  },
  {
   "cell_type": "code",
   "execution_count": 65,
   "metadata": {},
   "outputs": [],
   "source": [
    "# Create individual dataframe for ABC network\n",
    "\n",
    "abctvnetwork_op_df = pd.DataFrame(columns = [\"SL_word\", \"Open_Corr\"])\n",
    "\n",
    "#Populate the dataframe\n",
    "\n",
    "for index, val in abctvnetwork_opcor.iteritems():\n",
    "    abctvnetwork_op_df = abctvnetwork_op_df.append({\n",
    "        \"SL_word\": index,\n",
    "        \"Open_Corr\": val\n",
    "        },ignore_index=True)\n"
   ]
  },
  {
   "cell_type": "markdown",
   "metadata": {},
   "source": [
    "## Opt Out as a measurement\n",
    "\n",
    "- Calculate 1-optout_rate\n",
    "- Find the correlation between non-optouts and subject line word"
   ]
  },
  {
   "cell_type": "code",
   "execution_count": 66,
   "metadata": {},
   "outputs": [],
   "source": [
    "abctvnetwork_optoutcor = abctvnetwork_ss.subject_line.str.get_dummies(sep=' ').corrwith(1-abctvnetwork_ss.optout_rate)\n"
   ]
  },
  {
   "cell_type": "code",
   "execution_count": 67,
   "metadata": {},
   "outputs": [],
   "source": [
    "abctvnetwork_optout_df = pd.DataFrame(columns = [\"SL_word\", \"1-Optout_Corr\"])\n",
    "\n",
    "# Populate dataframe with opt-out correlations\n",
    "\n",
    "for index, val in abctvnetwork_optoutcor.iteritems():\n",
    "    abctvnetwork_optout_df = abctvnetwork_optout_df.append({\n",
    "        \"SL_word\": index,\n",
    "        \"1-Optout_Corr\": val\n",
    "    },ignore_index=True)\n"
   ]
  },
  {
   "cell_type": "markdown",
   "metadata": {},
   "source": [
    "## Merged correlation table"
   ]
  },
  {
   "cell_type": "code",
   "execution_count": 68,
   "metadata": {
    "scrolled": true
   },
   "outputs": [],
   "source": [
    "abctvnetwork_dfs = [abctvnetwork_op_df, abctvnetwork_optout_df]\n",
    "abctvnetwork_dfmerged = reduce(lambda left,right: pd.merge(left,right,on='SL_word'), abctvnetwork_dfs)\n"
   ]
  },
  {
   "cell_type": "code",
   "execution_count": 69,
   "metadata": {},
   "outputs": [],
   "source": [
    "# Total score is a value used to assess overall performance. The score itself has no meaning.\n",
    "\n",
    "for df in merged_dfs:\n",
    "    df['Total_Score'] = df['Open_Corr'] + df['1-Optout_Corr']"
   ]
  },
  {
   "cell_type": "code",
   "execution_count": 70,
   "metadata": {},
   "outputs": [
    {
     "data": {
      "text/html": [
       "<div>\n",
       "<style scoped>\n",
       "    .dataframe tbody tr th:only-of-type {\n",
       "        vertical-align: middle;\n",
       "    }\n",
       "\n",
       "    .dataframe tbody tr th {\n",
       "        vertical-align: top;\n",
       "    }\n",
       "\n",
       "    .dataframe thead th {\n",
       "        text-align: right;\n",
       "    }\n",
       "</style>\n",
       "<table border=\"1\" class=\"dataframe\">\n",
       "  <thead>\n",
       "    <tr style=\"text-align: right;\">\n",
       "      <th></th>\n",
       "      <th>SL_word</th>\n",
       "      <th>Open_Corr</th>\n",
       "      <th>1-Optout_Corr</th>\n",
       "      <th>Total_Score</th>\n",
       "    </tr>\n",
       "  </thead>\n",
       "  <tbody>\n",
       "    <tr>\n",
       "      <th>1159</th>\n",
       "      <td>Spoiler:</td>\n",
       "      <td>0.161184</td>\n",
       "      <td>0.126112</td>\n",
       "      <td>0.287296</td>\n",
       "    </tr>\n",
       "    <tr>\n",
       "      <th>523</th>\n",
       "      <td>GH</td>\n",
       "      <td>0.161184</td>\n",
       "      <td>0.126112</td>\n",
       "      <td>0.287296</td>\n",
       "    </tr>\n",
       "    <tr>\n",
       "      <th>1332</th>\n",
       "      <td>Week!</td>\n",
       "      <td>0.196764</td>\n",
       "      <td>0.056627</td>\n",
       "      <td>0.253391</td>\n",
       "    </tr>\n",
       "    <tr>\n",
       "      <th>860</th>\n",
       "      <td>More!</td>\n",
       "      <td>0.187445</td>\n",
       "      <td>0.049375</td>\n",
       "      <td>0.236820</td>\n",
       "    </tr>\n",
       "    <tr>\n",
       "      <th>1256</th>\n",
       "      <td>Today's</td>\n",
       "      <td>0.147506</td>\n",
       "      <td>0.084550</td>\n",
       "      <td>0.232055</td>\n",
       "    </tr>\n",
       "    <tr>\n",
       "      <th>973</th>\n",
       "      <td>Plus</td>\n",
       "      <td>0.160309</td>\n",
       "      <td>0.052259</td>\n",
       "      <td>0.212568</td>\n",
       "    </tr>\n",
       "    <tr>\n",
       "      <th>716</th>\n",
       "      <td>Kimmel</td>\n",
       "      <td>0.191808</td>\n",
       "      <td>0.020718</td>\n",
       "      <td>0.212525</td>\n",
       "    </tr>\n",
       "    <tr>\n",
       "      <th>718</th>\n",
       "      <td>Kimmel:</td>\n",
       "      <td>0.180500</td>\n",
       "      <td>0.030025</td>\n",
       "      <td>0.210526</td>\n",
       "    </tr>\n",
       "    <tr>\n",
       "      <th>974</th>\n",
       "      <td>Plus,</td>\n",
       "      <td>0.157346</td>\n",
       "      <td>0.045756</td>\n",
       "      <td>0.203103</td>\n",
       "    </tr>\n",
       "    <tr>\n",
       "      <th>1394</th>\n",
       "      <td>more!</td>\n",
       "      <td>0.153973</td>\n",
       "      <td>0.027505</td>\n",
       "      <td>0.181478</td>\n",
       "    </tr>\n",
       "  </tbody>\n",
       "</table>\n",
       "</div>"
      ],
      "text/plain": [
       "       SL_word  Open_Corr  1-Optout_Corr  Total_Score\n",
       "1159  Spoiler:   0.161184       0.126112     0.287296\n",
       "523         GH   0.161184       0.126112     0.287296\n",
       "1332     Week!   0.196764       0.056627     0.253391\n",
       "860      More!   0.187445       0.049375     0.236820\n",
       "1256   Today's   0.147506       0.084550     0.232055\n",
       "973       Plus   0.160309       0.052259     0.212568\n",
       "716     Kimmel   0.191808       0.020718     0.212525\n",
       "718    Kimmel:   0.180500       0.030025     0.210526\n",
       "974      Plus,   0.157346       0.045756     0.203103\n",
       "1394     more!   0.153973       0.027505     0.181478"
      ]
     },
     "execution_count": 70,
     "metadata": {},
     "output_type": "execute_result"
    }
   ],
   "source": [
    "# ABC TV Network\n",
    "abctvnetwork_dfmerged.sort_values('Total_Score', inplace = True, ascending = False)\n",
    "top_abctvnetwork_SL = abctvnetwork_dfmerged['Total_Score'] > 0.0\n",
    "abctvnetwork_dfmerged[top_abctvnetwork_SL][:10]"
   ]
  }
 ],
 "metadata": {
  "kernelspec": {
   "display_name": "Python 3",
   "language": "python",
   "name": "python3"
  },
  "language_info": {
   "codemirror_mode": {
    "name": "ipython",
    "version": 3
   },
   "file_extension": ".py",
   "mimetype": "text/x-python",
   "name": "python",
   "nbconvert_exporter": "python",
   "pygments_lexer": "ipython3",
   "version": "3.7.3"
  }
 },
 "nbformat": 4,
 "nbformat_minor": 2
}
